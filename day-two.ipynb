{
 "cells": [
  {
   "cell_type": "code",
   "id": "b6f7a238-c7e9-44df-a044-b420300b28b3",
   "metadata": {
    "ExecuteTime": {
     "end_time": "2024-07-30T06:09:09.558400Z",
     "start_time": "2024-07-30T06:08:53.714718Z"
    }
   },
   "source": "%pip install langchain langchain-openai langchain-openai langchain_chroma langchain-text-splitters langchain_community",
   "outputs": [
    {
     "name": "stdout",
     "output_type": "stream",
     "text": [
      "Collecting langchain\r\n",
      "  Downloading langchain-0.2.11-py3-none-any.whl.metadata (7.1 kB)\r\n",
      "Collecting langchain-openai\r\n",
      "  Downloading langchain_openai-0.1.19-py3-none-any.whl.metadata (2.6 kB)\r\n",
      "Collecting langchain_chroma\r\n",
      "  Downloading langchain_chroma-0.1.2-py3-none-any.whl.metadata (1.3 kB)\r\n",
      "Collecting langchain-text-splitters\r\n",
      "  Downloading langchain_text_splitters-0.2.2-py3-none-any.whl.metadata (2.1 kB)\r\n",
      "Collecting langchain_community\r\n",
      "  Downloading langchain_community-0.2.10-py3-none-any.whl.metadata (2.7 kB)\r\n",
      "Requirement already satisfied: PyYAML>=5.3 in ./myenv/lib/python3.12/site-packages (from langchain) (6.0.1)\r\n",
      "Collecting SQLAlchemy<3,>=1.4 (from langchain)\r\n",
      "  Downloading SQLAlchemy-2.0.31-cp312-cp312-macosx_11_0_arm64.whl.metadata (9.6 kB)\r\n",
      "Collecting aiohttp<4.0.0,>=3.8.3 (from langchain)\r\n",
      "  Downloading aiohttp-3.9.5-cp312-cp312-macosx_11_0_arm64.whl.metadata (7.5 kB)\r\n",
      "Collecting langchain-core<0.3.0,>=0.2.23 (from langchain)\r\n",
      "  Downloading langchain_core-0.2.24-py3-none-any.whl.metadata (6.2 kB)\r\n",
      "Collecting langsmith<0.2.0,>=0.1.17 (from langchain)\r\n",
      "  Downloading langsmith-0.1.93-py3-none-any.whl.metadata (13 kB)\r\n",
      "Requirement already satisfied: numpy<2.0.0,>=1.26.0 in ./myenv/lib/python3.12/site-packages (from langchain) (1.26.4)\r\n",
      "Requirement already satisfied: pydantic<3,>=1 in ./myenv/lib/python3.12/site-packages (from langchain) (2.8.2)\r\n",
      "Requirement already satisfied: requests<3,>=2 in ./myenv/lib/python3.12/site-packages (from langchain) (2.32.3)\r\n",
      "Collecting tenacity!=8.4.0,<9.0.0,>=8.1.0 (from langchain)\r\n",
      "  Downloading tenacity-8.5.0-py3-none-any.whl.metadata (1.2 kB)\r\n",
      "Requirement already satisfied: openai<2.0.0,>=1.32.0 in ./myenv/lib/python3.12/site-packages (from langchain-openai) (1.37.1)\r\n",
      "Requirement already satisfied: tiktoken<1,>=0.7 in ./myenv/lib/python3.12/site-packages (from langchain-openai) (0.7.0)\r\n",
      "Collecting chromadb<0.6.0,>=0.4.0 (from langchain_chroma)\r\n",
      "  Downloading chromadb-0.5.5-py3-none-any.whl.metadata (6.8 kB)\r\n",
      "Collecting fastapi<1,>=0.95.2 (from langchain_chroma)\r\n",
      "  Downloading fastapi-0.111.1-py3-none-any.whl.metadata (26 kB)\r\n",
      "Collecting dataclasses-json<0.7,>=0.5.7 (from langchain_community)\r\n",
      "  Downloading dataclasses_json-0.6.7-py3-none-any.whl.metadata (25 kB)\r\n",
      "Collecting aiosignal>=1.1.2 (from aiohttp<4.0.0,>=3.8.3->langchain)\r\n",
      "  Downloading aiosignal-1.3.1-py3-none-any.whl.metadata (4.0 kB)\r\n",
      "Requirement already satisfied: attrs>=17.3.0 in ./myenv/lib/python3.12/site-packages (from aiohttp<4.0.0,>=3.8.3->langchain) (23.2.0)\r\n",
      "Collecting frozenlist>=1.1.1 (from aiohttp<4.0.0,>=3.8.3->langchain)\r\n",
      "  Downloading frozenlist-1.4.1-cp312-cp312-macosx_11_0_arm64.whl.metadata (12 kB)\r\n",
      "Collecting multidict<7.0,>=4.5 (from aiohttp<4.0.0,>=3.8.3->langchain)\r\n",
      "  Downloading multidict-6.0.5-cp312-cp312-macosx_11_0_arm64.whl.metadata (4.2 kB)\r\n",
      "Collecting yarl<2.0,>=1.0 (from aiohttp<4.0.0,>=3.8.3->langchain)\r\n",
      "  Downloading yarl-1.9.4-cp312-cp312-macosx_11_0_arm64.whl.metadata (31 kB)\r\n",
      "Collecting build>=1.0.3 (from chromadb<0.6.0,>=0.4.0->langchain_chroma)\r\n",
      "  Downloading build-1.2.1-py3-none-any.whl.metadata (4.3 kB)\r\n",
      "Collecting chroma-hnswlib==0.7.6 (from chromadb<0.6.0,>=0.4.0->langchain_chroma)\r\n",
      "  Downloading chroma_hnswlib-0.7.6-cp312-cp312-macosx_11_0_arm64.whl.metadata (252 bytes)\r\n",
      "Collecting uvicorn>=0.18.3 (from uvicorn[standard]>=0.18.3->chromadb<0.6.0,>=0.4.0->langchain_chroma)\r\n",
      "  Downloading uvicorn-0.30.3-py3-none-any.whl.metadata (6.5 kB)\r\n",
      "Collecting posthog>=2.4.0 (from chromadb<0.6.0,>=0.4.0->langchain_chroma)\r\n",
      "  Downloading posthog-3.5.0-py2.py3-none-any.whl.metadata (2.0 kB)\r\n",
      "Requirement already satisfied: typing-extensions>=4.5.0 in ./myenv/lib/python3.12/site-packages (from chromadb<0.6.0,>=0.4.0->langchain_chroma) (4.12.2)\r\n",
      "Collecting onnxruntime>=1.14.1 (from chromadb<0.6.0,>=0.4.0->langchain_chroma)\r\n",
      "  Downloading onnxruntime-1.18.1-cp312-cp312-macosx_11_0_universal2.whl.metadata (4.3 kB)\r\n",
      "Collecting opentelemetry-api>=1.2.0 (from chromadb<0.6.0,>=0.4.0->langchain_chroma)\r\n",
      "  Downloading opentelemetry_api-1.26.0-py3-none-any.whl.metadata (1.4 kB)\r\n",
      "Collecting opentelemetry-exporter-otlp-proto-grpc>=1.2.0 (from chromadb<0.6.0,>=0.4.0->langchain_chroma)\r\n",
      "  Downloading opentelemetry_exporter_otlp_proto_grpc-1.26.0-py3-none-any.whl.metadata (2.3 kB)\r\n",
      "Collecting opentelemetry-instrumentation-fastapi>=0.41b0 (from chromadb<0.6.0,>=0.4.0->langchain_chroma)\r\n",
      "  Downloading opentelemetry_instrumentation_fastapi-0.47b0-py3-none-any.whl.metadata (2.1 kB)\r\n",
      "Collecting opentelemetry-sdk>=1.2.0 (from chromadb<0.6.0,>=0.4.0->langchain_chroma)\r\n",
      "  Downloading opentelemetry_sdk-1.26.0-py3-none-any.whl.metadata (1.5 kB)\r\n",
      "Requirement already satisfied: tokenizers>=0.13.2 in ./myenv/lib/python3.12/site-packages (from chromadb<0.6.0,>=0.4.0->langchain_chroma) (0.19.1)\r\n",
      "Collecting pypika>=0.48.9 (from chromadb<0.6.0,>=0.4.0->langchain_chroma)\r\n",
      "  Downloading PyPika-0.48.9.tar.gz (67 kB)\r\n",
      "  Installing build dependencies ... \u001B[?25ldone\r\n",
      "\u001B[?25h  Getting requirements to build wheel ... \u001B[?25ldone\r\n",
      "\u001B[?25h  Preparing metadata (pyproject.toml) ... \u001B[?25ldone\r\n",
      "\u001B[?25hRequirement already satisfied: tqdm>=4.65.0 in ./myenv/lib/python3.12/site-packages (from chromadb<0.6.0,>=0.4.0->langchain_chroma) (4.66.4)\r\n",
      "Requirement already satisfied: overrides>=7.3.1 in ./myenv/lib/python3.12/site-packages (from chromadb<0.6.0,>=0.4.0->langchain_chroma) (7.7.0)\r\n",
      "Collecting importlib-resources (from chromadb<0.6.0,>=0.4.0->langchain_chroma)\r\n",
      "  Downloading importlib_resources-6.4.0-py3-none-any.whl.metadata (3.9 kB)\r\n",
      "Collecting grpcio>=1.58.0 (from chromadb<0.6.0,>=0.4.0->langchain_chroma)\r\n",
      "  Downloading grpcio-1.65.1-cp312-cp312-macosx_10_9_universal2.whl.metadata (3.3 kB)\r\n",
      "Collecting bcrypt>=4.0.1 (from chromadb<0.6.0,>=0.4.0->langchain_chroma)\r\n",
      "  Downloading bcrypt-4.2.0-cp39-abi3-macosx_10_12_universal2.whl.metadata (9.6 kB)\r\n",
      "Collecting typer>=0.9.0 (from chromadb<0.6.0,>=0.4.0->langchain_chroma)\r\n",
      "  Downloading typer-0.12.3-py3-none-any.whl.metadata (15 kB)\r\n",
      "Collecting kubernetes>=28.1.0 (from chromadb<0.6.0,>=0.4.0->langchain_chroma)\r\n",
      "  Downloading kubernetes-30.1.0-py2.py3-none-any.whl.metadata (1.5 kB)\r\n",
      "Collecting mmh3>=4.0.1 (from chromadb<0.6.0,>=0.4.0->langchain_chroma)\r\n",
      "  Downloading mmh3-4.1.0-cp312-cp312-macosx_11_0_arm64.whl.metadata (13 kB)\r\n",
      "Collecting orjson>=3.9.12 (from chromadb<0.6.0,>=0.4.0->langchain_chroma)\r\n",
      "  Downloading orjson-3.10.6-cp312-cp312-macosx_10_15_x86_64.macosx_11_0_arm64.macosx_10_15_universal2.whl.metadata (50 kB)\r\n",
      "Requirement already satisfied: httpx>=0.27.0 in ./myenv/lib/python3.12/site-packages (from chromadb<0.6.0,>=0.4.0->langchain_chroma) (0.27.0)\r\n",
      "Collecting marshmallow<4.0.0,>=3.18.0 (from dataclasses-json<0.7,>=0.5.7->langchain_community)\r\n",
      "  Downloading marshmallow-3.21.3-py3-none-any.whl.metadata (7.1 kB)\r\n",
      "Collecting typing-inspect<1,>=0.4.0 (from dataclasses-json<0.7,>=0.5.7->langchain_community)\r\n",
      "  Downloading typing_inspect-0.9.0-py3-none-any.whl.metadata (1.5 kB)\r\n",
      "Collecting starlette<0.38.0,>=0.37.2 (from fastapi<1,>=0.95.2->langchain_chroma)\r\n",
      "  Downloading starlette-0.37.2-py3-none-any.whl.metadata (5.9 kB)\r\n",
      "Collecting fastapi-cli>=0.0.2 (from fastapi<1,>=0.95.2->langchain_chroma)\r\n",
      "  Downloading fastapi_cli-0.0.4-py3-none-any.whl.metadata (7.0 kB)\r\n",
      "Requirement already satisfied: jinja2>=2.11.2 in ./myenv/lib/python3.12/site-packages (from fastapi<1,>=0.95.2->langchain_chroma) (3.1.4)\r\n",
      "Collecting python-multipart>=0.0.7 (from fastapi<1,>=0.95.2->langchain_chroma)\r\n",
      "  Downloading python_multipart-0.0.9-py3-none-any.whl.metadata (2.5 kB)\r\n",
      "Collecting email_validator>=2.0.0 (from fastapi<1,>=0.95.2->langchain_chroma)\r\n",
      "  Downloading email_validator-2.2.0-py3-none-any.whl.metadata (25 kB)\r\n",
      "Collecting jsonpatch<2.0,>=1.33 (from langchain-core<0.3.0,>=0.2.23->langchain)\r\n",
      "  Downloading jsonpatch-1.33-py2.py3-none-any.whl.metadata (3.0 kB)\r\n",
      "Requirement already satisfied: packaging<25,>=23.2 in ./myenv/lib/python3.12/site-packages (from langchain-core<0.3.0,>=0.2.23->langchain) (24.1)\r\n",
      "Requirement already satisfied: anyio<5,>=3.5.0 in ./myenv/lib/python3.12/site-packages (from openai<2.0.0,>=1.32.0->langchain-openai) (4.4.0)\r\n",
      "Requirement already satisfied: distro<2,>=1.7.0 in ./myenv/lib/python3.12/site-packages (from openai<2.0.0,>=1.32.0->langchain-openai) (1.9.0)\r\n",
      "Requirement already satisfied: sniffio in ./myenv/lib/python3.12/site-packages (from openai<2.0.0,>=1.32.0->langchain-openai) (1.3.1)\r\n",
      "Requirement already satisfied: annotated-types>=0.4.0 in ./myenv/lib/python3.12/site-packages (from pydantic<3,>=1->langchain) (0.7.0)\r\n",
      "Requirement already satisfied: pydantic-core==2.20.1 in ./myenv/lib/python3.12/site-packages (from pydantic<3,>=1->langchain) (2.20.1)\r\n",
      "Requirement already satisfied: charset-normalizer<4,>=2 in ./myenv/lib/python3.12/site-packages (from requests<3,>=2->langchain) (3.3.2)\r\n",
      "Requirement already satisfied: idna<4,>=2.5 in ./myenv/lib/python3.12/site-packages (from requests<3,>=2->langchain) (3.7)\r\n",
      "Requirement already satisfied: urllib3<3,>=1.21.1 in ./myenv/lib/python3.12/site-packages (from requests<3,>=2->langchain) (2.2.2)\r\n",
      "Requirement already satisfied: certifi>=2017.4.17 in ./myenv/lib/python3.12/site-packages (from requests<3,>=2->langchain) (2024.7.4)\r\n",
      "Requirement already satisfied: regex>=2022.1.18 in ./myenv/lib/python3.12/site-packages (from tiktoken<1,>=0.7->langchain-openai) (2024.7.24)\r\n",
      "Collecting pyproject_hooks (from build>=1.0.3->chromadb<0.6.0,>=0.4.0->langchain_chroma)\r\n",
      "  Downloading pyproject_hooks-1.1.0-py3-none-any.whl.metadata (1.3 kB)\r\n",
      "Collecting dnspython>=2.0.0 (from email_validator>=2.0.0->fastapi<1,>=0.95.2->langchain_chroma)\r\n",
      "  Downloading dnspython-2.6.1-py3-none-any.whl.metadata (5.8 kB)\r\n",
      "Requirement already satisfied: httpcore==1.* in ./myenv/lib/python3.12/site-packages (from httpx>=0.27.0->chromadb<0.6.0,>=0.4.0->langchain_chroma) (1.0.5)\r\n",
      "Requirement already satisfied: h11<0.15,>=0.13 in ./myenv/lib/python3.12/site-packages (from httpcore==1.*->httpx>=0.27.0->chromadb<0.6.0,>=0.4.0->langchain_chroma) (0.14.0)\r\n",
      "Requirement already satisfied: MarkupSafe>=2.0 in ./myenv/lib/python3.12/site-packages (from jinja2>=2.11.2->fastapi<1,>=0.95.2->langchain_chroma) (2.1.5)\r\n",
      "Requirement already satisfied: jsonpointer>=1.9 in ./myenv/lib/python3.12/site-packages (from jsonpatch<2.0,>=1.33->langchain-core<0.3.0,>=0.2.23->langchain) (3.0.0)\r\n",
      "Requirement already satisfied: six>=1.9.0 in ./myenv/lib/python3.12/site-packages (from kubernetes>=28.1.0->chromadb<0.6.0,>=0.4.0->langchain_chroma) (1.16.0)\r\n",
      "Requirement already satisfied: python-dateutil>=2.5.3 in ./myenv/lib/python3.12/site-packages (from kubernetes>=28.1.0->chromadb<0.6.0,>=0.4.0->langchain_chroma) (2.9.0.post0)\r\n",
      "Collecting google-auth>=1.0.1 (from kubernetes>=28.1.0->chromadb<0.6.0,>=0.4.0->langchain_chroma)\r\n",
      "  Downloading google_auth-2.32.0-py2.py3-none-any.whl.metadata (4.7 kB)\r\n",
      "Requirement already satisfied: websocket-client!=0.40.0,!=0.41.*,!=0.42.*,>=0.32.0 in ./myenv/lib/python3.12/site-packages (from kubernetes>=28.1.0->chromadb<0.6.0,>=0.4.0->langchain_chroma) (1.8.0)\r\n",
      "Collecting requests-oauthlib (from kubernetes>=28.1.0->chromadb<0.6.0,>=0.4.0->langchain_chroma)\r\n",
      "  Downloading requests_oauthlib-2.0.0-py2.py3-none-any.whl.metadata (11 kB)\r\n",
      "Collecting oauthlib>=3.2.2 (from kubernetes>=28.1.0->chromadb<0.6.0,>=0.4.0->langchain_chroma)\r\n",
      "  Downloading oauthlib-3.2.2-py3-none-any.whl.metadata (7.5 kB)\r\n",
      "Collecting coloredlogs (from onnxruntime>=1.14.1->chromadb<0.6.0,>=0.4.0->langchain_chroma)\r\n",
      "  Downloading coloredlogs-15.0.1-py2.py3-none-any.whl.metadata (12 kB)\r\n",
      "Collecting flatbuffers (from onnxruntime>=1.14.1->chromadb<0.6.0,>=0.4.0->langchain_chroma)\r\n",
      "  Downloading flatbuffers-24.3.25-py2.py3-none-any.whl.metadata (850 bytes)\r\n",
      "Collecting protobuf (from onnxruntime>=1.14.1->chromadb<0.6.0,>=0.4.0->langchain_chroma)\r\n",
      "  Downloading protobuf-5.27.2-cp38-abi3-macosx_10_9_universal2.whl.metadata (592 bytes)\r\n",
      "Requirement already satisfied: sympy in ./myenv/lib/python3.12/site-packages (from onnxruntime>=1.14.1->chromadb<0.6.0,>=0.4.0->langchain_chroma) (1.13.1)\r\n",
      "Collecting deprecated>=1.2.6 (from opentelemetry-api>=1.2.0->chromadb<0.6.0,>=0.4.0->langchain_chroma)\r\n",
      "  Downloading Deprecated-1.2.14-py2.py3-none-any.whl.metadata (5.4 kB)\r\n",
      "Collecting importlib-metadata<=8.0.0,>=6.0 (from opentelemetry-api>=1.2.0->chromadb<0.6.0,>=0.4.0->langchain_chroma)\r\n",
      "  Downloading importlib_metadata-8.0.0-py3-none-any.whl.metadata (4.6 kB)\r\n",
      "Collecting googleapis-common-protos~=1.52 (from opentelemetry-exporter-otlp-proto-grpc>=1.2.0->chromadb<0.6.0,>=0.4.0->langchain_chroma)\r\n",
      "  Downloading googleapis_common_protos-1.63.2-py2.py3-none-any.whl.metadata (1.5 kB)\r\n",
      "Collecting opentelemetry-exporter-otlp-proto-common==1.26.0 (from opentelemetry-exporter-otlp-proto-grpc>=1.2.0->chromadb<0.6.0,>=0.4.0->langchain_chroma)\r\n",
      "  Downloading opentelemetry_exporter_otlp_proto_common-1.26.0-py3-none-any.whl.metadata (1.8 kB)\r\n",
      "Collecting opentelemetry-proto==1.26.0 (from opentelemetry-exporter-otlp-proto-grpc>=1.2.0->chromadb<0.6.0,>=0.4.0->langchain_chroma)\r\n",
      "  Downloading opentelemetry_proto-1.26.0-py3-none-any.whl.metadata (2.3 kB)\r\n",
      "Collecting protobuf (from onnxruntime>=1.14.1->chromadb<0.6.0,>=0.4.0->langchain_chroma)\r\n",
      "  Downloading protobuf-4.25.4-cp37-abi3-macosx_10_9_universal2.whl.metadata (541 bytes)\r\n",
      "Collecting opentelemetry-instrumentation-asgi==0.47b0 (from opentelemetry-instrumentation-fastapi>=0.41b0->chromadb<0.6.0,>=0.4.0->langchain_chroma)\r\n",
      "  Downloading opentelemetry_instrumentation_asgi-0.47b0-py3-none-any.whl.metadata (2.0 kB)\r\n",
      "Collecting opentelemetry-instrumentation==0.47b0 (from opentelemetry-instrumentation-fastapi>=0.41b0->chromadb<0.6.0,>=0.4.0->langchain_chroma)\r\n",
      "  Downloading opentelemetry_instrumentation-0.47b0-py3-none-any.whl.metadata (6.1 kB)\r\n",
      "Collecting opentelemetry-semantic-conventions==0.47b0 (from opentelemetry-instrumentation-fastapi>=0.41b0->chromadb<0.6.0,>=0.4.0->langchain_chroma)\r\n",
      "  Downloading opentelemetry_semantic_conventions-0.47b0-py3-none-any.whl.metadata (2.4 kB)\r\n",
      "Collecting opentelemetry-util-http==0.47b0 (from opentelemetry-instrumentation-fastapi>=0.41b0->chromadb<0.6.0,>=0.4.0->langchain_chroma)\r\n",
      "  Downloading opentelemetry_util_http-0.47b0-py3-none-any.whl.metadata (2.5 kB)\r\n",
      "Requirement already satisfied: setuptools>=16.0 in ./myenv/lib/python3.12/site-packages (from opentelemetry-instrumentation==0.47b0->opentelemetry-instrumentation-fastapi>=0.41b0->chromadb<0.6.0,>=0.4.0->langchain_chroma) (72.1.0)\r\n",
      "Collecting wrapt<2.0.0,>=1.0.0 (from opentelemetry-instrumentation==0.47b0->opentelemetry-instrumentation-fastapi>=0.41b0->chromadb<0.6.0,>=0.4.0->langchain_chroma)\r\n",
      "  Downloading wrapt-1.16.0-cp312-cp312-macosx_11_0_arm64.whl.metadata (6.6 kB)\r\n",
      "Collecting asgiref~=3.0 (from opentelemetry-instrumentation-asgi==0.47b0->opentelemetry-instrumentation-fastapi>=0.41b0->chromadb<0.6.0,>=0.4.0->langchain_chroma)\r\n",
      "  Downloading asgiref-3.8.1-py3-none-any.whl.metadata (9.3 kB)\r\n",
      "Collecting monotonic>=1.5 (from posthog>=2.4.0->chromadb<0.6.0,>=0.4.0->langchain_chroma)\r\n",
      "  Downloading monotonic-1.6-py2.py3-none-any.whl.metadata (1.5 kB)\r\n",
      "Collecting backoff>=1.10.0 (from posthog>=2.4.0->chromadb<0.6.0,>=0.4.0->langchain_chroma)\r\n",
      "  Downloading backoff-2.2.1-py3-none-any.whl.metadata (14 kB)\r\n",
      "Requirement already satisfied: huggingface-hub<1.0,>=0.16.4 in ./myenv/lib/python3.12/site-packages (from tokenizers>=0.13.2->chromadb<0.6.0,>=0.4.0->langchain_chroma) (0.24.3)\r\n",
      "Requirement already satisfied: click>=8.0.0 in ./myenv/lib/python3.12/site-packages (from typer>=0.9.0->chromadb<0.6.0,>=0.4.0->langchain_chroma) (8.1.7)\r\n",
      "Collecting shellingham>=1.3.0 (from typer>=0.9.0->chromadb<0.6.0,>=0.4.0->langchain_chroma)\r\n",
      "  Downloading shellingham-1.5.4-py2.py3-none-any.whl.metadata (3.5 kB)\r\n",
      "Collecting rich>=10.11.0 (from typer>=0.9.0->chromadb<0.6.0,>=0.4.0->langchain_chroma)\r\n",
      "  Downloading rich-13.7.1-py3-none-any.whl.metadata (18 kB)\r\n",
      "Collecting mypy-extensions>=0.3.0 (from typing-inspect<1,>=0.4.0->dataclasses-json<0.7,>=0.5.7->langchain_community)\r\n",
      "  Downloading mypy_extensions-1.0.0-py3-none-any.whl.metadata (1.1 kB)\r\n",
      "Collecting httptools>=0.5.0 (from uvicorn[standard]>=0.18.3->chromadb<0.6.0,>=0.4.0->langchain_chroma)\r\n",
      "  Downloading httptools-0.6.1-cp312-cp312-macosx_10_9_universal2.whl.metadata (3.6 kB)\r\n",
      "Collecting python-dotenv>=0.13 (from uvicorn[standard]>=0.18.3->chromadb<0.6.0,>=0.4.0->langchain_chroma)\r\n",
      "  Downloading python_dotenv-1.0.1-py3-none-any.whl.metadata (23 kB)\r\n",
      "Collecting uvloop!=0.15.0,!=0.15.1,>=0.14.0 (from uvicorn[standard]>=0.18.3->chromadb<0.6.0,>=0.4.0->langchain_chroma)\r\n",
      "  Downloading uvloop-0.19.0-cp312-cp312-macosx_10_9_universal2.whl.metadata (4.9 kB)\r\n",
      "Collecting watchfiles>=0.13 (from uvicorn[standard]>=0.18.3->chromadb<0.6.0,>=0.4.0->langchain_chroma)\r\n",
      "  Downloading watchfiles-0.22.0-cp312-cp312-macosx_11_0_arm64.whl.metadata (4.9 kB)\r\n",
      "Collecting websockets>=10.4 (from uvicorn[standard]>=0.18.3->chromadb<0.6.0,>=0.4.0->langchain_chroma)\r\n",
      "  Downloading websockets-12.0-cp312-cp312-macosx_11_0_arm64.whl.metadata (6.6 kB)\r\n",
      "Collecting cachetools<6.0,>=2.0.0 (from google-auth>=1.0.1->kubernetes>=28.1.0->chromadb<0.6.0,>=0.4.0->langchain_chroma)\r\n",
      "  Downloading cachetools-5.4.0-py3-none-any.whl.metadata (5.3 kB)\r\n",
      "Collecting pyasn1-modules>=0.2.1 (from google-auth>=1.0.1->kubernetes>=28.1.0->chromadb<0.6.0,>=0.4.0->langchain_chroma)\r\n",
      "  Downloading pyasn1_modules-0.4.0-py3-none-any.whl.metadata (3.4 kB)\r\n",
      "Collecting rsa<5,>=3.1.4 (from google-auth>=1.0.1->kubernetes>=28.1.0->chromadb<0.6.0,>=0.4.0->langchain_chroma)\r\n",
      "  Downloading rsa-4.9-py3-none-any.whl.metadata (4.2 kB)\r\n",
      "Requirement already satisfied: filelock in ./myenv/lib/python3.12/site-packages (from huggingface-hub<1.0,>=0.16.4->tokenizers>=0.13.2->chromadb<0.6.0,>=0.4.0->langchain_chroma) (3.15.4)\r\n",
      "Requirement already satisfied: fsspec>=2023.5.0 in ./myenv/lib/python3.12/site-packages (from huggingface-hub<1.0,>=0.16.4->tokenizers>=0.13.2->chromadb<0.6.0,>=0.4.0->langchain_chroma) (2024.6.1)\r\n",
      "Collecting zipp>=0.5 (from importlib-metadata<=8.0.0,>=6.0->opentelemetry-api>=1.2.0->chromadb<0.6.0,>=0.4.0->langchain_chroma)\r\n",
      "  Downloading zipp-3.19.2-py3-none-any.whl.metadata (3.6 kB)\r\n",
      "Collecting markdown-it-py>=2.2.0 (from rich>=10.11.0->typer>=0.9.0->chromadb<0.6.0,>=0.4.0->langchain_chroma)\r\n",
      "  Downloading markdown_it_py-3.0.0-py3-none-any.whl.metadata (6.9 kB)\r\n",
      "Requirement already satisfied: pygments<3.0.0,>=2.13.0 in ./myenv/lib/python3.12/site-packages (from rich>=10.11.0->typer>=0.9.0->chromadb<0.6.0,>=0.4.0->langchain_chroma) (2.18.0)\r\n",
      "Collecting humanfriendly>=9.1 (from coloredlogs->onnxruntime>=1.14.1->chromadb<0.6.0,>=0.4.0->langchain_chroma)\r\n",
      "  Downloading humanfriendly-10.0-py2.py3-none-any.whl.metadata (9.2 kB)\r\n",
      "Requirement already satisfied: mpmath<1.4,>=1.1.0 in ./myenv/lib/python3.12/site-packages (from sympy->onnxruntime>=1.14.1->chromadb<0.6.0,>=0.4.0->langchain_chroma) (1.3.0)\r\n",
      "Collecting mdurl~=0.1 (from markdown-it-py>=2.2.0->rich>=10.11.0->typer>=0.9.0->chromadb<0.6.0,>=0.4.0->langchain_chroma)\r\n",
      "  Downloading mdurl-0.1.2-py3-none-any.whl.metadata (1.6 kB)\r\n",
      "Collecting pyasn1<0.7.0,>=0.4.6 (from pyasn1-modules>=0.2.1->google-auth>=1.0.1->kubernetes>=28.1.0->chromadb<0.6.0,>=0.4.0->langchain_chroma)\r\n",
      "  Downloading pyasn1-0.6.0-py2.py3-none-any.whl.metadata (8.3 kB)\r\n",
      "Downloading langchain-0.2.11-py3-none-any.whl (990 kB)\r\n",
      "\u001B[2K   \u001B[90m━━━━━━━━━━━━━━━━━━━━━━━━━━━━━━━━━━━━━━━━\u001B[0m \u001B[32m990.3/990.3 kB\u001B[0m \u001B[31m34.4 MB/s\u001B[0m eta \u001B[36m0:00:00\u001B[0m\r\n",
      "\u001B[?25hDownloading langchain_openai-0.1.19-py3-none-any.whl (47 kB)\r\n",
      "Downloading langchain_chroma-0.1.2-py3-none-any.whl (9.3 kB)\r\n",
      "Downloading langchain_text_splitters-0.2.2-py3-none-any.whl (25 kB)\r\n",
      "Downloading langchain_community-0.2.10-py3-none-any.whl (2.3 MB)\r\n",
      "\u001B[2K   \u001B[90m━━━━━━━━━━━━━━━━━━━━━━━━━━━━━━━━━━━━━━━━\u001B[0m \u001B[32m2.3/2.3 MB\u001B[0m \u001B[31m15.2 MB/s\u001B[0m eta \u001B[36m0:00:00\u001B[0m\r\n",
      "\u001B[?25hDownloading aiohttp-3.9.5-cp312-cp312-macosx_11_0_arm64.whl (392 kB)\r\n",
      "Downloading chromadb-0.5.5-py3-none-any.whl (584 kB)\r\n",
      "\u001B[2K   \u001B[90m━━━━━━━━━━━━━━━━━━━━━━━━━━━━━━━━━━━━━━━━\u001B[0m \u001B[32m584.3/584.3 kB\u001B[0m \u001B[31m27.2 MB/s\u001B[0m eta \u001B[36m0:00:00\u001B[0m\r\n",
      "\u001B[?25hDownloading chroma_hnswlib-0.7.6-cp312-cp312-macosx_11_0_arm64.whl (185 kB)\r\n",
      "Downloading dataclasses_json-0.6.7-py3-none-any.whl (28 kB)\r\n",
      "Downloading fastapi-0.111.1-py3-none-any.whl (92 kB)\r\n",
      "Downloading langchain_core-0.2.24-py3-none-any.whl (377 kB)\r\n",
      "Downloading langsmith-0.1.93-py3-none-any.whl (139 kB)\r\n",
      "Downloading SQLAlchemy-2.0.31-cp312-cp312-macosx_11_0_arm64.whl (2.1 MB)\r\n",
      "\u001B[2K   \u001B[90m━━━━━━━━━━━━━━━━━━━━━━━━━━━━━━━━━━━━━━━━\u001B[0m \u001B[32m2.1/2.1 MB\u001B[0m \u001B[31m16.9 MB/s\u001B[0m eta \u001B[36m0:00:00\u001B[0m\r\n",
      "\u001B[?25hDownloading tenacity-8.5.0-py3-none-any.whl (28 kB)\r\n",
      "Downloading aiosignal-1.3.1-py3-none-any.whl (7.6 kB)\r\n",
      "Downloading bcrypt-4.2.0-cp39-abi3-macosx_10_12_universal2.whl (472 kB)\r\n",
      "Downloading build-1.2.1-py3-none-any.whl (21 kB)\r\n",
      "Downloading email_validator-2.2.0-py3-none-any.whl (33 kB)\r\n",
      "Downloading fastapi_cli-0.0.4-py3-none-any.whl (9.5 kB)\r\n",
      "Downloading frozenlist-1.4.1-cp312-cp312-macosx_11_0_arm64.whl (51 kB)\r\n",
      "Downloading grpcio-1.65.1-cp312-cp312-macosx_10_9_universal2.whl (10.4 MB)\r\n",
      "\u001B[2K   \u001B[90m━━━━━━━━━━━━━━━━━━━━━━━━━━━━━━━━━━━━━━━━\u001B[0m \u001B[32m10.4/10.4 MB\u001B[0m \u001B[31m11.9 MB/s\u001B[0m eta \u001B[36m0:00:00\u001B[0ma \u001B[36m0:00:01\u001B[0m\r\n",
      "\u001B[?25hDownloading jsonpatch-1.33-py2.py3-none-any.whl (12 kB)\r\n",
      "Downloading kubernetes-30.1.0-py2.py3-none-any.whl (1.7 MB)\r\n",
      "\u001B[2K   \u001B[90m━━━━━━━━━━━━━━━━━━━━━━━━━━━━━━━━━━━━━━━━\u001B[0m \u001B[32m1.7/1.7 MB\u001B[0m \u001B[31m18.3 MB/s\u001B[0m eta \u001B[36m0:00:00\u001B[0m\r\n",
      "\u001B[?25hDownloading marshmallow-3.21.3-py3-none-any.whl (49 kB)\r\n",
      "Downloading mmh3-4.1.0-cp312-cp312-macosx_11_0_arm64.whl (30 kB)\r\n",
      "Downloading multidict-6.0.5-cp312-cp312-macosx_11_0_arm64.whl (29 kB)\r\n",
      "Downloading onnxruntime-1.18.1-cp312-cp312-macosx_11_0_universal2.whl (15.9 MB)\r\n",
      "\u001B[2K   \u001B[90m━━━━━━━━━━━━━━━━━━━━━━━━━━━━━━━━━━━━━━━━\u001B[0m \u001B[32m15.9/15.9 MB\u001B[0m \u001B[31m16.8 MB/s\u001B[0m eta \u001B[36m0:00:00\u001B[0ma \u001B[36m0:00:01\u001B[0m\r\n",
      "\u001B[?25hDownloading opentelemetry_api-1.26.0-py3-none-any.whl (61 kB)\r\n",
      "Downloading opentelemetry_exporter_otlp_proto_grpc-1.26.0-py3-none-any.whl (18 kB)\r\n",
      "Downloading opentelemetry_exporter_otlp_proto_common-1.26.0-py3-none-any.whl (17 kB)\r\n",
      "Downloading opentelemetry_proto-1.26.0-py3-none-any.whl (52 kB)\r\n",
      "Downloading opentelemetry_instrumentation_fastapi-0.47b0-py3-none-any.whl (11 kB)\r\n",
      "Downloading opentelemetry_instrumentation-0.47b0-py3-none-any.whl (29 kB)\r\n",
      "Downloading opentelemetry_instrumentation_asgi-0.47b0-py3-none-any.whl (15 kB)\r\n",
      "Downloading opentelemetry_semantic_conventions-0.47b0-py3-none-any.whl (138 kB)\r\n",
      "Downloading opentelemetry_util_http-0.47b0-py3-none-any.whl (6.9 kB)\r\n",
      "Downloading opentelemetry_sdk-1.26.0-py3-none-any.whl (109 kB)\r\n",
      "Downloading orjson-3.10.6-cp312-cp312-macosx_10_15_x86_64.macosx_11_0_arm64.macosx_10_15_universal2.whl (250 kB)\r\n",
      "Downloading posthog-3.5.0-py2.py3-none-any.whl (41 kB)\r\n",
      "Downloading python_multipart-0.0.9-py3-none-any.whl (22 kB)\r\n",
      "Downloading starlette-0.37.2-py3-none-any.whl (71 kB)\r\n",
      "Downloading typer-0.12.3-py3-none-any.whl (47 kB)\r\n",
      "Downloading typing_inspect-0.9.0-py3-none-any.whl (8.8 kB)\r\n",
      "Downloading uvicorn-0.30.3-py3-none-any.whl (62 kB)\r\n",
      "Downloading yarl-1.9.4-cp312-cp312-macosx_11_0_arm64.whl (79 kB)\r\n",
      "Downloading importlib_resources-6.4.0-py3-none-any.whl (38 kB)\r\n",
      "Downloading backoff-2.2.1-py3-none-any.whl (15 kB)\r\n",
      "Downloading Deprecated-1.2.14-py2.py3-none-any.whl (9.6 kB)\r\n",
      "Downloading dnspython-2.6.1-py3-none-any.whl (307 kB)\r\n",
      "Downloading google_auth-2.32.0-py2.py3-none-any.whl (195 kB)\r\n",
      "Downloading googleapis_common_protos-1.63.2-py2.py3-none-any.whl (220 kB)\r\n",
      "Downloading httptools-0.6.1-cp312-cp312-macosx_10_9_universal2.whl (146 kB)\r\n",
      "Downloading importlib_metadata-8.0.0-py3-none-any.whl (24 kB)\r\n",
      "Downloading monotonic-1.6-py2.py3-none-any.whl (8.2 kB)\r\n",
      "Downloading mypy_extensions-1.0.0-py3-none-any.whl (4.7 kB)\r\n",
      "Downloading oauthlib-3.2.2-py3-none-any.whl (151 kB)\r\n",
      "Downloading protobuf-4.25.4-cp37-abi3-macosx_10_9_universal2.whl (394 kB)\r\n",
      "Downloading python_dotenv-1.0.1-py3-none-any.whl (19 kB)\r\n",
      "Downloading rich-13.7.1-py3-none-any.whl (240 kB)\r\n",
      "Downloading shellingham-1.5.4-py2.py3-none-any.whl (9.8 kB)\r\n",
      "Downloading uvloop-0.19.0-cp312-cp312-macosx_10_9_universal2.whl (1.4 MB)\r\n",
      "\u001B[2K   \u001B[90m━━━━━━━━━━━━━━━━━━━━━━━━━━━━━━━━━━━━━━━━\u001B[0m \u001B[32m1.4/1.4 MB\u001B[0m \u001B[31m17.0 MB/s\u001B[0m eta \u001B[36m0:00:00\u001B[0m\r\n",
      "\u001B[?25hDownloading watchfiles-0.22.0-cp312-cp312-macosx_11_0_arm64.whl (390 kB)\r\n",
      "Downloading websockets-12.0-cp312-cp312-macosx_11_0_arm64.whl (121 kB)\r\n",
      "Downloading coloredlogs-15.0.1-py2.py3-none-any.whl (46 kB)\r\n",
      "Downloading flatbuffers-24.3.25-py2.py3-none-any.whl (26 kB)\r\n",
      "Downloading pyproject_hooks-1.1.0-py3-none-any.whl (9.2 kB)\r\n",
      "Downloading requests_oauthlib-2.0.0-py2.py3-none-any.whl (24 kB)\r\n",
      "Downloading asgiref-3.8.1-py3-none-any.whl (23 kB)\r\n",
      "Downloading cachetools-5.4.0-py3-none-any.whl (9.5 kB)\r\n",
      "Downloading humanfriendly-10.0-py2.py3-none-any.whl (86 kB)\r\n",
      "Downloading markdown_it_py-3.0.0-py3-none-any.whl (87 kB)\r\n",
      "Downloading pyasn1_modules-0.4.0-py3-none-any.whl (181 kB)\r\n",
      "Downloading rsa-4.9-py3-none-any.whl (34 kB)\r\n",
      "Downloading wrapt-1.16.0-cp312-cp312-macosx_11_0_arm64.whl (38 kB)\r\n",
      "Downloading zipp-3.19.2-py3-none-any.whl (9.0 kB)\r\n",
      "Downloading mdurl-0.1.2-py3-none-any.whl (10.0 kB)\r\n",
      "Downloading pyasn1-0.6.0-py2.py3-none-any.whl (85 kB)\r\n",
      "Building wheels for collected packages: pypika\r\n",
      "  Building wheel for pypika (pyproject.toml) ... \u001B[?25ldone\r\n",
      "\u001B[?25h  Created wheel for pypika: filename=PyPika-0.48.9-py2.py3-none-any.whl size=53725 sha256=a640c8cb22e7dda060205408f94d3c3e376f0721c5b790495e55a9b957249975\r\n",
      "  Stored in directory: /Users/seokjoongkim/Library/Caches/pip/wheels/d5/3d/69/8d68d249cd3de2584f226e27fd431d6344f7d70fd856ebd01b\r\n",
      "Successfully built pypika\r\n",
      "Installing collected packages: pypika, monotonic, mmh3, flatbuffers, zipp, wrapt, websockets, uvloop, uvicorn, tenacity, SQLAlchemy, shellingham, python-multipart, python-dotenv, pyproject_hooks, pyasn1, protobuf, orjson, opentelemetry-util-http, oauthlib, mypy-extensions, multidict, mdurl, marshmallow, jsonpatch, importlib-resources, humanfriendly, httptools, grpcio, frozenlist, dnspython, chroma-hnswlib, cachetools, bcrypt, backoff, asgiref, yarl, watchfiles, typing-inspect, starlette, rsa, requests-oauthlib, pyasn1-modules, posthog, opentelemetry-proto, markdown-it-py, importlib-metadata, googleapis-common-protos, email_validator, deprecated, coloredlogs, build, aiosignal, rich, opentelemetry-exporter-otlp-proto-common, opentelemetry-api, onnxruntime, langsmith, google-auth, dataclasses-json, aiohttp, typer, opentelemetry-semantic-conventions, opentelemetry-instrumentation, langchain-core, kubernetes, opentelemetry-sdk, opentelemetry-instrumentation-asgi, langchain-text-splitters, langchain-openai, fastapi-cli, opentelemetry-instrumentation-fastapi, opentelemetry-exporter-otlp-proto-grpc, langchain, fastapi, langchain_community, chromadb, langchain_chroma\r\n",
      "Successfully installed SQLAlchemy-2.0.31 aiohttp-3.9.5 aiosignal-1.3.1 asgiref-3.8.1 backoff-2.2.1 bcrypt-4.2.0 build-1.2.1 cachetools-5.4.0 chroma-hnswlib-0.7.6 chromadb-0.5.5 coloredlogs-15.0.1 dataclasses-json-0.6.7 deprecated-1.2.14 dnspython-2.6.1 email_validator-2.2.0 fastapi-0.111.1 fastapi-cli-0.0.4 flatbuffers-24.3.25 frozenlist-1.4.1 google-auth-2.32.0 googleapis-common-protos-1.63.2 grpcio-1.65.1 httptools-0.6.1 humanfriendly-10.0 importlib-metadata-8.0.0 importlib-resources-6.4.0 jsonpatch-1.33 kubernetes-30.1.0 langchain-0.2.11 langchain-core-0.2.24 langchain-openai-0.1.19 langchain-text-splitters-0.2.2 langchain_chroma-0.1.2 langchain_community-0.2.10 langsmith-0.1.93 markdown-it-py-3.0.0 marshmallow-3.21.3 mdurl-0.1.2 mmh3-4.1.0 monotonic-1.6 multidict-6.0.5 mypy-extensions-1.0.0 oauthlib-3.2.2 onnxruntime-1.18.1 opentelemetry-api-1.26.0 opentelemetry-exporter-otlp-proto-common-1.26.0 opentelemetry-exporter-otlp-proto-grpc-1.26.0 opentelemetry-instrumentation-0.47b0 opentelemetry-instrumentation-asgi-0.47b0 opentelemetry-instrumentation-fastapi-0.47b0 opentelemetry-proto-1.26.0 opentelemetry-sdk-1.26.0 opentelemetry-semantic-conventions-0.47b0 opentelemetry-util-http-0.47b0 orjson-3.10.6 posthog-3.5.0 protobuf-4.25.4 pyasn1-0.6.0 pyasn1-modules-0.4.0 pypika-0.48.9 pyproject_hooks-1.1.0 python-dotenv-1.0.1 python-multipart-0.0.9 requests-oauthlib-2.0.0 rich-13.7.1 rsa-4.9 shellingham-1.5.4 starlette-0.37.2 tenacity-8.5.0 typer-0.12.3 typing-inspect-0.9.0 uvicorn-0.30.3 uvloop-0.19.0 watchfiles-0.22.0 websockets-12.0 wrapt-1.16.0 yarl-1.9.4 zipp-3.19.2\r\n",
      "Note: you may need to restart the kernel to use updated packages.\n"
     ]
    }
   ],
   "execution_count": 3
  },
  {
   "cell_type": "code",
   "id": "100979de-15f4-4173-a23c-b0f282b1dea2",
   "metadata": {
    "ExecuteTime": {
     "end_time": "2024-07-30T07:47:14.323734Z",
     "start_time": "2024-07-30T07:47:13.311182Z"
    }
   },
   "source": [
    "import getpass\n",
    "import os\n",
    "\n",
    "os.environ[\"OPENAI_API_KEY\"] = getpass.getpass()\n",
    "os.environ['OPENAI_API_KEY'] = \n",
    "\n",
    "from langchain_openai import ChatOpenAI\n",
    "\n",
    "llm = ChatOpenAI(model=\"gpt-4o-mini\")"
   ],
   "outputs": [],
   "execution_count": 87
  },
  {
   "metadata": {
    "ExecuteTime": {
     "end_time": "2024-07-30T07:47:15.123102Z",
     "start_time": "2024-07-30T07:47:15.120493Z"
    }
   },
   "cell_type": "code",
   "source": "user_query = 'agent memory'",
   "id": "c921e9403b2e72fc",
   "outputs": [],
   "execution_count": 88
  },
  {
   "metadata": {
    "ExecuteTime": {
     "end_time": "2024-07-30T07:47:18.722931Z",
     "start_time": "2024-07-30T07:47:16.408705Z"
    }
   },
   "cell_type": "code",
   "source": [
    "import bs4\n",
    "from langchain_community.vectorstores import FAISS\n",
    "from langchain_text_splitters import CharacterTextSplitter\n",
    "from langchain_community.document_loaders import WebBaseLoader\n",
    "from langchain_openai import OpenAIEmbeddings\n",
    "\n",
    "urls = [\n",
    "    \"https://lilianweng.github.io/posts/2023-06-23-agent/\",\n",
    "    \"https://lilianweng.github.io/posts/2023-03-15-prompt-engineering/\",\n",
    "    \"https://lilianweng.github.io/posts/2023-10-25-adv-attack-llm/\",\n",
    "]\n",
    "\n",
    "# Load, chunk and index the contents of the blog.\n",
    "loader = WebBaseLoader(\n",
    "    web_paths=urls,\n",
    "    bs_kwargs=dict(\n",
    "        parse_only=bs4.SoupStrainer(\n",
    "            class_=(\"post-content\", \"post-title\", \"post-header\")\n",
    "        )\n",
    "    ),\n",
    ")\n",
    "\n",
    "documents = loader.load()\n",
    "text_splitter = CharacterTextSplitter(chunk_size=1000, chunk_overlap=200)\n",
    "texts = text_splitter.split_documents(documents)\n",
    "embeddings = OpenAIEmbeddings(model=\"text-embedding-3-small\")\n",
    "vectorstore = FAISS.from_documents(texts, embeddings)\n",
    "\n",
    "vector_store_retrievers = [vectorstore.as_retriever(), vectorstore.as_retriever(\n",
    "    search_type=\"mmr\",\n",
    "    search_kwargs={'k': 6, 'lambda_mult': 0.25}\n",
    "), vectorstore.as_retriever(\n",
    "    search_type=\"mmr\",\n",
    "    search_kwargs={'k': 5, 'fetch_k': 50}\n",
    "), vectorstore.as_retriever(\n",
    "    search_type=\"similarity_score_threshold\",\n",
    "    search_kwargs={'score_threshold': 0.8}\n",
    "), vectorstore.as_retriever(search_kwargs={'k': 1}), vectorstore.as_retriever(\n",
    "    search_kwargs={'filter': {'paper_title': 'GPT-4 Technical Report'}}\n",
    ")]\n"
   ],
   "id": "ea16430e0ffa1db7",
   "outputs": [
    {
     "name": "stderr",
     "output_type": "stream",
     "text": [
      "Created a chunk of size 2731, which is longer than the specified 1000\n",
      "Created a chunk of size 1538, which is longer than the specified 1000\n",
      "Created a chunk of size 1380, which is longer than the specified 1000\n",
      "Created a chunk of size 2352, which is longer than the specified 1000\n",
      "Created a chunk of size 1953, which is longer than the specified 1000\n",
      "Created a chunk of size 1067, which is longer than the specified 1000\n",
      "Created a chunk of size 1475, which is longer than the specified 1000\n",
      "Created a chunk of size 2881, which is longer than the specified 1000\n",
      "Created a chunk of size 1980, which is longer than the specified 1000\n",
      "Created a chunk of size 4145, which is longer than the specified 1000\n",
      "Created a chunk of size 2159, which is longer than the specified 1000\n",
      "Created a chunk of size 1317, which is longer than the specified 1000\n",
      "Created a chunk of size 1112, which is longer than the specified 1000\n",
      "Created a chunk of size 1043, which is longer than the specified 1000\n",
      "Created a chunk of size 1578, which is longer than the specified 1000\n",
      "Created a chunk of size 1141, which is longer than the specified 1000\n",
      "Created a chunk of size 1464, which is longer than the specified 1000\n",
      "Created a chunk of size 1756, which is longer than the specified 1000\n",
      "Created a chunk of size 1743, which is longer than the specified 1000\n",
      "Created a chunk of size 2407, which is longer than the specified 1000\n",
      "Created a chunk of size 1682, which is longer than the specified 1000\n",
      "Created a chunk of size 1014, which is longer than the specified 1000\n",
      "Created a chunk of size 1036, which is longer than the specified 1000\n",
      "Created a chunk of size 1214, which is longer than the specified 1000\n",
      "Created a chunk of size 1189, which is longer than the specified 1000\n",
      "Created a chunk of size 1986, which is longer than the specified 1000\n",
      "Created a chunk of size 1084, which is longer than the specified 1000\n",
      "Created a chunk of size 1278, which is longer than the specified 1000\n",
      "Created a chunk of size 1462, which is longer than the specified 1000\n"
     ]
    }
   ],
   "execution_count": 89
  },
  {
   "metadata": {
    "ExecuteTime": {
     "end_time": "2024-07-30T07:51:33.226351Z",
     "start_time": "2024-07-30T07:51:23.142850Z"
    }
   },
   "cell_type": "code",
   "source": [
    "from langchain_core.output_parsers import JsonOutputParser\n",
    "from langchain_core.prompts import PromptTemplate\n",
    "\n",
    "parser = JsonOutputParser()\n",
    "\n",
    "relevant_prompt = PromptTemplate(\n",
    "    template=\"Determine if the query is relevant to docs.\\n{format_instructions}\\n{query}\\n{docs}\",\n",
    "    input_variables=[\"query\", \"docs\"],\n",
    "    partial_variables={\"format_instructions\": parser.get_format_instructions()},\n",
    ")\n",
    "\n",
    "chain = relevant_prompt | llm | parser\n",
    "\n",
    "relevant_retrievers = []\n",
    "irrelevant_retrievers = []\n",
    "\n",
    "for retriever in vector_store_retrievers:\n",
    "    docs = retriever.invoke(user_query)\n",
    "    res = chain.invoke({\"query\": user_query, \"docs\": docs})\n",
    "    print(res)\n",
    "    if res.get('relevant', False):\n",
    "        relevant_retrievers.append(retriever)\n",
    "    else:\n",
    "        irrelevant_retrievers.append(retriever)\n",
    "\n"
   ],
   "id": "29d70cf8af2a9d7d",
   "outputs": [
    {
     "name": "stdout",
     "output_type": "stream",
     "text": [
      "{'relevant': True}\n",
      "{'relevant': True, 'explanation': \"The query 'agent memory' is directly relevant to the documents, particularly the first document which discusses long-term memory modules for agents, their observations, and the context of retrieval models. Other documents also touch on related themes such as task execution and generative agent architecture, which are relevant to the concept of 'agent memory'.\"}\n",
      "{'relevant': True, 'reason': \"The query 'agent memory' is directly relevant to the documents provided, particularly the first document, which discusses the concept of memory in agents, including long-term memory modules, retrieval models, and reflection mechanisms.\"}\n"
     ]
    },
    {
     "name": "stderr",
     "output_type": "stream",
     "text": [
      "/Users/seokjoongkim/llm/joon.233/myenv/lib/python3.12/site-packages/langchain_core/vectorstores/base.py:796: UserWarning: No relevant docs were retrieved using the relevance score threshold 0.8\n",
      "  warnings.warn(\n"
     ]
    },
    {
     "name": "stdout",
     "output_type": "stream",
     "text": [
      "{'relevant': False, 'message': \"The query 'agent memory' does not provide enough context to determine relevance to specific documents.\"}\n",
      "{'relevant': True}\n",
      "{'relevant': False, 'message': 'The query does not provide enough context to determine relevance to the documents.'}\n"
     ]
    }
   ],
   "execution_count": 96
  },
  {
   "metadata": {
    "ExecuteTime": {
     "end_time": "2024-07-30T07:51:38.527926Z",
     "start_time": "2024-07-30T07:51:38.525425Z"
    }
   },
   "cell_type": "code",
   "source": "relevant_checker = 'I like an apple'",
   "id": "f5452f95bf197f36",
   "outputs": [],
   "execution_count": 97
  },
  {
   "metadata": {
    "ExecuteTime": {
     "end_time": "2024-07-30T07:51:43.380989Z",
     "start_time": "2024-07-30T07:51:39.188905Z"
    }
   },
   "cell_type": "code",
   "source": [
    "validated_retrievers = []\n",
    "\n",
    "for retriever in relevant_retrievers:\n",
    "    docs = retriever.invoke(relevant_checker)\n",
    "    res = chain.invoke({\"query\": relevant_checker, \"docs\": docs})\n",
    "    if not res.get('relevant', True):\n",
    "        validated_retrievers.append(retriever)\n",
    "\n",
    "print(validated_retrievers)"
   ],
   "id": "3c19242d958b5d57",
   "outputs": [
    {
     "name": "stdout",
     "output_type": "stream",
     "text": [
      "[VectorStoreRetriever(tags=['FAISS', 'OpenAIEmbeddings'], vectorstore=<langchain_community.vectorstores.faiss.FAISS object at 0x127b97080>), VectorStoreRetriever(tags=['FAISS', 'OpenAIEmbeddings'], vectorstore=<langchain_community.vectorstores.faiss.FAISS object at 0x127b97080>, search_type='mmr', search_kwargs={'k': 6, 'lambda_mult': 0.25}), VectorStoreRetriever(tags=['FAISS', 'OpenAIEmbeddings'], vectorstore=<langchain_community.vectorstores.faiss.FAISS object at 0x127b97080>, search_type='mmr', search_kwargs={'k': 5, 'fetch_k': 50}), VectorStoreRetriever(tags=['FAISS', 'OpenAIEmbeddings'], vectorstore=<langchain_community.vectorstores.faiss.FAISS object at 0x127b97080>, search_kwargs={'k': 1})]\n"
     ]
    }
   ],
   "execution_count": 98
  },
  {
   "metadata": {
    "ExecuteTime": {
     "end_time": "2024-07-30T07:52:56.804236Z",
     "start_time": "2024-07-30T07:52:56.056703Z"
    }
   },
   "cell_type": "code",
   "source": [
    "from langchain import hub\n",
    "\n",
    "prompt = hub.pull(\"rlm/rag-prompt\")\n",
    "\n",
    "example_messages = prompt.invoke(\n",
    "    {\"context\": \"filler context\", \"question\": \"filler question\"}\n",
    ").to_messages()\n",
    "\n",
    "example_messages"
   ],
   "id": "6c7fbe7612c845c9",
   "outputs": [
    {
     "data": {
      "text/plain": [
       "[HumanMessage(content=\"You are an assistant for question-answering tasks. Use the following pieces of retrieved context to answer the question. If you don't know the answer, just say that you don't know. Use three sentences maximum and keep the answer concise.\\nQuestion: filler question \\nContext: filler context \\nAnswer:\")]"
      ]
     },
     "execution_count": 100,
     "metadata": {},
     "output_type": "execute_result"
    }
   ],
   "execution_count": 100
  },
  {
   "metadata": {
    "ExecuteTime": {
     "end_time": "2024-07-30T07:55:43.223953Z",
     "start_time": "2024-07-30T07:55:43.221679Z"
    }
   },
   "cell_type": "code",
   "source": [
    "def format_docs(docs):\n",
    "    return \"\\n\\n\".join(doc.page_content for doc in docs)"
   ],
   "id": "f46fe423acf0e2ea",
   "outputs": [],
   "execution_count": 102
  },
  {
   "metadata": {
    "ExecuteTime": {
     "end_time": "2024-07-30T08:11:21.415842Z",
     "start_time": "2024-07-30T08:11:12.229853Z"
    }
   },
   "cell_type": "code",
   "source": [
    "from langchain_core.output_parsers import StrOutputParser\n",
    "from langchain_core.runnables import RunnablePassthrough\n",
    "\n",
    "rag_chain = None\n",
    "for retriever in validated_retrievers:\n",
    "    docs = retriever.invoke(user_query)\n",
    "    \n",
    "    cur_chain = (\n",
    "            {\"context\": retriever | format_docs, \"question\": RunnablePassthrough()}\n",
    "            | prompt\n",
    "            | llm\n",
    "            | StrOutputParser()\n",
    "    )\n",
    "    if rag_chain is None:\n",
    "        rag_chain = cur_chain\n",
    "    else:\n",
    "        rag_chain = rag_chain | cur_chain\n",
    "\n",
    "\n"
   ],
   "id": "fd32af5653f496e8",
   "outputs": [
    {
     "name": "stdout",
     "output_type": "stream",
     "text": [
      "Agent memory is a long-term module that records experiences in natural language, allowing for the retention and recall of information. It enables agents to synthesize past observations into higher-level inferences, guiding future actions. The retrieval model prioritizes recent, relevant, and important memories to enhance agent behavior and communication.\n"
     ]
    }
   ],
   "execution_count": 109
  },
  {
   "metadata": {
    "ExecuteTime": {
     "end_time": "2024-07-30T08:28:17.290754Z",
     "start_time": "2024-07-30T08:27:58.145258Z"
    }
   },
   "cell_type": "code",
   "source": [
    "if rag_chain is not None:\n",
    "    hallucination_checker_prompt = PromptTemplate(\n",
    "        template=\"Determine if the query has hallucination or not.\\n{format_instructions}\\n{query}\",\n",
    "        input_variables=[\"query\"],\n",
    "        partial_variables={\"format_instructions\": parser.get_format_instructions()},\n",
    "    )\n",
    "    \n",
    "    hallucination_chain = hallucination_checker_prompt | llm | parser\n",
    "    \n",
    "    possible_answer = 'No'\n",
    "    has_hallucination = True\n",
    "    while has_hallucination:\n",
    "        \n",
    "        answer_list = []\n",
    "        for chunk in rag_chain.stream(user_query):\n",
    "            answer_list.append(chunk)\n",
    "    \n",
    "        possible_answer = \"\".join(answer_list)\n",
    "        checker = hallucination_chain.invoke({\"query\": possible_answer})\n",
    "        if not checker.get('hallucination', True):\n",
    "            break\n",
    "        else:\n",
    "            print(checker)\n",
    "            print('fail to pass hallucination check')\n",
    "    \n",
    "    answer = possible_answer\n",
    "    print(answer)\n",
    "else:\n",
    "    print('No')\n",
    "\n",
    "    "
   ],
   "id": "3e920859c63a2bd3",
   "outputs": [
    {
     "name": "stdout",
     "output_type": "stream",
     "text": [
      "{'has_hallucination': False, 'reason': 'The query accurately describes the components of agent memory, including short-term and long-term memory, without introducing false or misleading information.'}\n",
      "fail to pass hallucination check\n",
      "Agent memory comprises both short-term and long-term components, with long-term memory often stored in an external database for vast information retention. This structure enhances interaction by allowing the agent to recall accumulated knowledge when responding. Additionally, the agent can utilize external APIs to supplement its existing knowledge with current and specific information.\n"
     ]
    }
   ],
   "execution_count": 115
  },
  {
   "metadata": {},
   "cell_type": "code",
   "outputs": [],
   "execution_count": null,
   "source": "",
   "id": "90bd9f6351bce05f"
  }
 ],
 "metadata": {
  "kernelspec": {
   "display_name": "Python 3 (ipykernel)",
   "language": "python",
   "name": "python3"
  },
  "language_info": {
   "codemirror_mode": {
    "name": "ipython",
    "version": 3
   },
   "file_extension": ".py",
   "mimetype": "text/x-python",
   "name": "python",
   "nbconvert_exporter": "python",
   "pygments_lexer": "ipython3",
   "version": "3.12.4"
  }
 },
 "nbformat": 4,
 "nbformat_minor": 5
}

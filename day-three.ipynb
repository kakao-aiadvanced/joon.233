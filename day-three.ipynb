{
 "cells": [
  {
   "metadata": {
    "ExecuteTime": {
     "end_time": "2024-07-31T09:07:44.847944Z",
     "start_time": "2024-07-31T09:07:43.596522Z"
    }
   },
   "cell_type": "code",
   "source": [
    "%%capture --no-stderr\n",
    "%pip install langchain-nomic langchain_community tiktoken langchainhub chromadb langchain langgraph tavily-python langchain-text-splitters gpt4all arxiv\n",
    "%pip install -U langchain langchain-openai"
   ],
   "id": "e280a2c077a29883",
   "outputs": [],
   "execution_count": 396
  },
  {
   "metadata": {
    "ExecuteTime": {
     "end_time": "2024-07-31T09:27:35.624636Z",
     "start_time": "2024-07-31T09:27:27.888198Z"
    }
   },
   "cell_type": "code",
   "source": [
    "from tavily import TavilyClient\n",
    "tavily = TavilyClient(api_key='')\n",
    "\n",
    "response = tavily.search(query=\"Where does Messi play right now?\", max_results=3)\n",
    "context = [{\"url\": obj[\"url\"], \"content\": obj[\"content\"]} for obj in response['results']]\n",
    "\n",
    "# You can easily get search result context based on any max tokens straight into your RAG.\n",
    "# The response is a string of the context within the max_token limit.\n",
    "\n",
    "response_context = tavily.get_search_context(query=\"Where does Messi play right now?\", search_depth=\"advanced\", max_tokens=500)\n",
    "\n",
    "# You can also get a simple answer to a question including relevant sources all with a simple function call:\n",
    "# You can use it for baseline\n",
    "response_qna = tavily.qna_search(query=\"Where does Messi play right now?\")\n"
   ],
   "id": "9fa50b634d4ac546",
   "outputs": [],
   "execution_count": 452
  },
  {
   "metadata": {},
   "cell_type": "markdown",
   "source": "### 2. 그래프 스테이트 및 노드, 엣지 아래처럼 변경",
   "id": "d0da076ccf1c3e80"
  },
  {
   "metadata": {
    "ExecuteTime": {
     "end_time": "2024-07-31T09:29:01.036341Z",
     "start_time": "2024-07-31T09:29:01.034646Z"
    }
   },
   "cell_type": "code",
   "source": [
    "import os\n",
    "\n",
    "\n",
    "os.environ['OPENAI_API_KEY'] = ''\n",
    "os.environ['LANGCHAIN_TRACING_V2'] = 'true'\n",
    "os.environ['LANGCHAIN_ENDPOINT'] = \"https://api.smith.langchain.com\"\n",
    "os.environ['LANGCHAIN_API_KEY'] = \"\"\n",
    "os.environ['LANGCHAIN_PROJECT'] = \"\"\n"
   ],
   "id": "7c3c4bb076758f9f",
   "outputs": [],
   "execution_count": 463
  },
  {
   "metadata": {
    "ExecuteTime": {
     "end_time": "2024-07-31T09:29:01.593018Z",
     "start_time": "2024-07-31T09:29:01.579471Z"
    }
   },
   "cell_type": "code",
   "source": [
    "from langchain_openai import ChatOpenAI\n",
    "\n",
    "llm = ChatOpenAI(model=\"gpt-4o-mini\")"
   ],
   "id": "4d83ade4e2cf799d",
   "outputs": [],
   "execution_count": 464
  },
  {
   "metadata": {
    "ExecuteTime": {
     "end_time": "2024-07-31T09:29:02.064857Z",
     "start_time": "2024-07-31T09:29:02.063004Z"
    }
   },
   "cell_type": "code",
   "source": [
    "from langsmith.wrappers import wrap_openai\n",
    "from langsmith import traceable\n",
    "\n",
    "@traceable # Auto-trace this function\n",
    "def pipeline(user_input: str):\n",
    "    return llm.invoke(user_input)\n"
   ],
   "id": "d3cd0a731adb8144",
   "outputs": [],
   "execution_count": 465
  },
  {
   "metadata": {
    "ExecuteTime": {
     "end_time": "2024-07-31T09:29:04.593385Z",
     "start_time": "2024-07-31T09:29:02.394929Z"
    }
   },
   "cell_type": "code",
   "source": [
    "# index\n",
    "\n",
    "import bs4\n",
    "from langchain_community.vectorstores import FAISS\n",
    "from langchain_text_splitters import CharacterTextSplitter\n",
    "from langchain_community.document_loaders import WebBaseLoader\n",
    "from langchain_openai import OpenAIEmbeddings\n",
    "\n",
    "urls = [\n",
    "    \"https://lilianweng.github.io/posts/2023-06-23-agent/\",\n",
    "    \"https://lilianweng.github.io/posts/2023-03-15-prompt-engineering/\",\n",
    "    \"https://lilianweng.github.io/posts/2023-10-25-adv-attack-llm/\",\n",
    "]\n",
    "\n",
    "# Load, chunk and index the contents of the blog.\n",
    "loader = WebBaseLoader(\n",
    "    web_paths=urls,\n",
    "    bs_kwargs=dict(\n",
    "        parse_only=bs4.SoupStrainer(\n",
    "            class_=(\"post-content\", \"post-title\", \"post-header\")\n",
    "        )\n",
    "    ),\n",
    ")\n",
    "\n",
    "text_splitter = CharacterTextSplitter(chunk_size=1000, chunk_overlap=200)\n",
    "texts = text_splitter.split_documents(loader.load())\n",
    "embeddings = OpenAIEmbeddings(model=\"text-embedding-3-small\")\n",
    "vectorstore = FAISS.from_documents(texts, embeddings)\n",
    "\n",
    "vector_store_retrievers = [vectorstore.as_retriever(), vectorstore.as_retriever(\n",
    "    search_type=\"mmr\",\n",
    "    search_kwargs={'k': 6, 'lambda_mult': 0.25}\n",
    "), vectorstore.as_retriever(\n",
    "    search_type=\"mmr\",\n",
    "    search_kwargs={'k': 5, 'fetch_k': 50}\n",
    "), vectorstore.as_retriever(\n",
    "    search_type=\"similarity_score_threshold\",\n",
    "    search_kwargs={'score_threshold': 0.8}\n",
    "), vectorstore.as_retriever(search_kwargs={'k': 1}), vectorstore.as_retriever(\n",
    "    search_kwargs={'filter': {'paper_title': 'GPT-4 Technical Report'}}\n",
    ")]"
   ],
   "id": "ff1f27b200346d9",
   "outputs": [
    {
     "name": "stderr",
     "output_type": "stream",
     "text": [
      "Created a chunk of size 2731, which is longer than the specified 1000\n",
      "Created a chunk of size 1538, which is longer than the specified 1000\n",
      "Created a chunk of size 1380, which is longer than the specified 1000\n",
      "Created a chunk of size 2352, which is longer than the specified 1000\n",
      "Created a chunk of size 1953, which is longer than the specified 1000\n",
      "Created a chunk of size 1067, which is longer than the specified 1000\n",
      "Created a chunk of size 1475, which is longer than the specified 1000\n",
      "Created a chunk of size 2881, which is longer than the specified 1000\n",
      "Created a chunk of size 1980, which is longer than the specified 1000\n",
      "Created a chunk of size 4145, which is longer than the specified 1000\n",
      "Created a chunk of size 2159, which is longer than the specified 1000\n",
      "Created a chunk of size 1317, which is longer than the specified 1000\n",
      "Created a chunk of size 1112, which is longer than the specified 1000\n",
      "Created a chunk of size 1043, which is longer than the specified 1000\n",
      "Created a chunk of size 1578, which is longer than the specified 1000\n",
      "Created a chunk of size 1141, which is longer than the specified 1000\n",
      "Created a chunk of size 1464, which is longer than the specified 1000\n",
      "Created a chunk of size 1756, which is longer than the specified 1000\n",
      "Created a chunk of size 1743, which is longer than the specified 1000\n",
      "Created a chunk of size 2407, which is longer than the specified 1000\n",
      "Created a chunk of size 1682, which is longer than the specified 1000\n",
      "Created a chunk of size 1014, which is longer than the specified 1000\n",
      "Created a chunk of size 1036, which is longer than the specified 1000\n",
      "Created a chunk of size 1214, which is longer than the specified 1000\n",
      "Created a chunk of size 1189, which is longer than the specified 1000\n",
      "Created a chunk of size 1986, which is longer than the specified 1000\n",
      "Created a chunk of size 1084, which is longer than the specified 1000\n",
      "Created a chunk of size 1278, which is longer than the specified 1000\n",
      "Created a chunk of size 1462, which is longer than the specified 1000\n"
     ]
    }
   ],
   "execution_count": 466
  },
  {
   "metadata": {
    "ExecuteTime": {
     "end_time": "2024-07-31T09:29:05.155964Z",
     "start_time": "2024-07-31T09:29:05.152938Z"
    }
   },
   "cell_type": "code",
   "source": [
    "# Relevance Checker\n",
    "from langchain_core.output_parsers import JsonOutputParser\n",
    "from langchain_core.prompts import PromptTemplate\n",
    "\n",
    "parser = JsonOutputParser()\n",
    "\n",
    "relevant_prompt = PromptTemplate(\n",
    "    template=\"\"\"\n",
    "    Determine if the question is relevant to context.\n",
    "    question: {question}\n",
    "    context: {context}\n",
    "    \n",
    "    A answer value is boolean, and key is 'relevant'\n",
    "\n",
    "    {format_instructions}\n",
    "    {question}\n",
    "    {context}\n",
    "    \"\"\",\n",
    "    input_variables=[\"question\", \"context\"],\n",
    "    partial_variables={\"format_instructions\": parser.get_format_instructions()},\n",
    ")\n",
    "\n",
    "relevant_chain = relevant_prompt | llm | parser\n"
   ],
   "id": "1fd81b4b3db646a",
   "outputs": [],
   "execution_count": 467
  },
  {
   "metadata": {
    "ExecuteTime": {
     "end_time": "2024-07-31T09:29:06.045797Z",
     "start_time": "2024-07-31T09:29:06.042846Z"
    }
   },
   "cell_type": "code",
   "source": [
    "# Generation\n",
    "generate_prompt = PromptTemplate(\n",
    "    template=\"\"\"\n",
    "    You are an assistant for question-answering tasks.\n",
    "    Use the following pieces of retrieved context to answer the question. If you don't know the answer, just say that you don't know.\n",
    "    Use three sentences maximum and keep the answer concise \n",
    "    \n",
    "    {format_instructions}\n",
    "    {question}\n",
    "    {context}\n",
    "    \"\"\",\n",
    "    input_variables=[\"question\", \"context\"],\n",
    "    partial_variables={\"format_instructions\": parser.get_format_instructions()},\n",
    ")\n",
    "\n",
    "# Chain\n",
    "generate_chain = generate_prompt | llm | parser"
   ],
   "id": "69ed03224ef0a3cf",
   "outputs": [],
   "execution_count": 468
  },
  {
   "metadata": {
    "ExecuteTime": {
     "end_time": "2024-07-31T09:29:06.316338Z",
     "start_time": "2024-07-31T09:29:06.313396Z"
    }
   },
   "cell_type": "code",
   "source": [
    "# Hallucination Checker\n",
    "\n",
    "hallucination_checker_prompt = PromptTemplate(\n",
    "    template=\"\"\"\n",
    "    answer: {answer}, question: {question}, context: {context}\n",
    "    \n",
    "    Determine if the answer contains hallucination based on the context and the question.\n",
    "        \n",
    "    Your answer value is boolean, and key is 'has_hallucination'\n",
    "\n",
    "    {format_instructions}\n",
    "    \"\"\",\n",
    "    input_variables=[\"question\", \"answer\", \"context\"],\n",
    "    partial_variables={\"format_instructions\": parser.get_format_instructions()},\n",
    ")\n",
    "\n",
    "hallucination_chain = hallucination_checker_prompt | llm | parser\n"
   ],
   "id": "6fb5c0a30439fe39",
   "outputs": [],
   "execution_count": 469
  },
  {
   "metadata": {
    "ExecuteTime": {
     "end_time": "2024-07-31T09:29:06.521408Z",
     "start_time": "2024-07-31T09:29:06.513196Z"
    }
   },
   "cell_type": "code",
   "source": [
    "from pprint import pprint\n",
    "from typing import List\n",
    "\n",
    "from langchain_core.documents import Document\n",
    "from typing_extensions import TypedDict\n",
    "\n",
    "from langgraph.graph import END, StateGraph\n",
    "\n",
    "### State\n",
    "\n",
    "\n",
    "class State(TypedDict):\n",
    "    \"\"\"\n",
    "    Represents the state of our graph.\n",
    "\n",
    "    Attributes:\n",
    "        question: question\n",
    "        generation: LLM generation\n",
    "        web_search: whether to add search\n",
    "        documents: list of documents\n",
    "    \"\"\"\n",
    "\n",
    "    question: str\n",
    "    generation: str\n",
    "    has_hallucination: bool\n",
    "    web_search: str\n",
    "    documents: List[str]\n",
    "\n",
    "\n",
    "### Nodes\n",
    "def docs_retrieval(state):\n",
    "    print(\"---DOCS Retrieval---\")\n",
    "    question = state[\"question\"]\n",
    "\n",
    "    documents = []\n",
    "    for r in vector_store_retrievers:\n",
    "        documents.append(r.invoke(question))\n",
    "    return {\"documents\": documents, \"question\": question}\n",
    "\n",
    "def relevant_docs_checker(state):\n",
    "    print(\"---CHECK RELEVANT DOCS---\")\n",
    "    question = state[\"question\"]\n",
    "    documents = state[\"documents\"]\n",
    "    \n",
    "    relevant_documents = []\n",
    "    for doc in documents:\n",
    "        res = relevant_chain.invoke({\"question\": question, \"context\": doc})\n",
    "        if res.get('relevant', False):\n",
    "            if not relevant_checker(doc):\n",
    "                relevant_documents.append(doc)\n",
    "\n",
    "    return {\n",
    "        \"documents\": relevant_documents, \n",
    "        \"question\": question\n",
    "    }\n",
    "\n",
    "def relevant_checker(possible_docs):\n",
    "    irrelevant_question = 'I like an apple'\n",
    "\n",
    "    res = relevant_chain.invoke({\"question\": irrelevant_question, \"context\": possible_docs})\n",
    "    return res.get('relevant', False)\n",
    "\n",
    "def generate_answer(state):\n",
    "    print(\"---GENERATE ANSWER---\")\n",
    "    question = state[\"question\"]\n",
    "    relevant_documents = state[\"documents\"]\n",
    "\n",
    "    # RAG generation\n",
    "    res = generate_chain.invoke({\"context\": relevant_documents[0], \"question\": question})\n",
    "    possible_answer = res.get('answer', 'I like an apple')\n",
    "\n",
    "    return {\n",
    "        \"documents\": relevant_documents, \n",
    "        \"question\": question, \n",
    "        \"generation\": possible_answer\n",
    "    }\n",
    "\n",
    "def hallucination_checker(state):\n",
    "    print(\"---CHECK HALLUCINATION---\")\n",
    "    question = state[\"question\"]\n",
    "    relevant_documents = state[\"documents\"]\n",
    "    possible_answer = state[\"generation\"]\n",
    "    \n",
    "    has_hallucination = False\n",
    "    for doc in relevant_documents:\n",
    "        res = hallucination_chain.invoke({\"answer\": possible_answer, \"question\": question, \"context\": doc})\n",
    "        has_hallucination |= res.get('has_hallucination', True)\n",
    "    \n",
    "    return {\n",
    "        \"documents\": relevant_documents,\n",
    "        \"question\": question,\n",
    "        \"generation\": possible_answer,\n",
    "        \"has_hallucination\": has_hallucination\n",
    "    }\n",
    "\n",
    "def web_searcher(state):\n",
    "    print(\"---SEARCH WEB---\")\n",
    "    question = state[\"question\"]\n",
    "    responses = tavily.get_search_context(query=\"Where does Messi play right now?\", search_depth=\"advanced\", max_tokens=500, max_results=3)\n",
    "    relevant_documents = [res for res in responses]\n",
    "    \n",
    "    return {\n",
    "        \"relevant_documents\": relevant_documents,\n",
    "        \"question\": question\n",
    "    }\n",
    "\n",
    "### Edges\n",
    "def decide_to_generate(state):\n",
    "    print(\"---Let System generate or web search---\")\n",
    "    relevant_documents = state[\"documents\"]\n",
    "\n",
    "    if len(relevant_documents) == 0:\n",
    "        return \"web_searcher\"\n",
    "    else:\n",
    "        print(\"---DECISION: GENERATE---\")\n",
    "        return \"generate_answer\"\n",
    "\n",
    "def decide_to_answer(state):\n",
    "    print(\"---Let System print the answer or not---\")\n",
    "    has_hallucination = state[\"has_hallucination\"]\n",
    "    if has_hallucination:\n",
    "        print(\"---DECISION: Re-Generate---\")\n",
    "        return \"web_searcher\"\n",
    "    else:\n",
    "        print(\"---DECISION: Print The Answer---\")\n",
    "        return \"useful\"\n",
    "\n",
    "state_machine = StateGraph(State)\n",
    "\n",
    "# Define the nodes\n",
    "state_machine.add_node(\"docs_retrieval\", docs_retrieval)\n",
    "state_machine.add_node(\"relevant_docs_checker\", relevant_docs_checker)\n",
    "state_machine.add_node(\"generate_answer\", generate_answer)\n",
    "state_machine.add_node(\"hallucination_checker\", hallucination_checker)\n",
    "state_machine.add_node(\"web_searcher\", web_searcher)"
   ],
   "id": "96731373d138a09d",
   "outputs": [],
   "execution_count": 470
  },
  {
   "metadata": {
    "ExecuteTime": {
     "end_time": "2024-07-31T09:29:06.807108Z",
     "start_time": "2024-07-31T09:29:06.804661Z"
    }
   },
   "cell_type": "code",
   "source": [
    "# Build graph\n",
    "state_machine.set_entry_point(\"docs_retrieval\")\n",
    "state_machine.add_edge(\"docs_retrieval\", \"relevant_docs_checker\")\n",
    "state_machine.add_conditional_edges(\n",
    "    \"relevant_docs_checker\",\n",
    "    decide_to_generate,\n",
    "    {\n",
    "        \"web_searcher\": \"web_searcher\",\n",
    "        \"generate_answer\": \"generate_answer\",\n",
    "    },\n",
    ")\n",
    "state_machine.add_edge(\"web_searcher\", \"relevant_docs_checker\")\n",
    "state_machine.add_edge(\"generate_answer\", \"hallucination_checker\")\n",
    "state_machine.add_conditional_edges(\n",
    "    \"hallucination_checker\",\n",
    "    decide_to_answer,\n",
    "    {\n",
    "        \"web_searcher\": \"web_searcher\",\n",
    "        \"useful\": END,\n",
    "    },\n",
    ")"
   ],
   "id": "e227261db330c2d2",
   "outputs": [],
   "execution_count": 471
  },
  {
   "metadata": {
    "ExecuteTime": {
     "end_time": "2024-07-31T09:32:16.684128Z",
     "start_time": "2024-07-31T09:32:00.051630Z"
    }
   },
   "cell_type": "code",
   "source": [
    "\n",
    "# Compile\n",
    "app = state_machine.compile()\n",
    "\n",
    "# Test\n",
    "\n",
    "inputs = {\"question\": \"What are the types of agent memory?\"}\n",
    "for output in app.stream(inputs):\n",
    "    for key, value in output.items():\n",
    "        pprint(f\"Finished running: {key}:\")\n",
    "        \n",
    "print(\"---DONE---\")"
   ],
   "id": "4d8b1961061f2cfa",
   "outputs": [
    {
     "name": "stdout",
     "output_type": "stream",
     "text": [
      "---DOCS Retrieval---\n"
     ]
    },
    {
     "name": "stderr",
     "output_type": "stream",
     "text": [
      "/Users/seokjoongkim/llm/joon.233/myenv/lib/python3.12/site-packages/langchain_core/vectorstores/base.py:796: UserWarning: No relevant docs were retrieved using the relevance score threshold 0.8\n",
      "  warnings.warn(\n"
     ]
    },
    {
     "name": "stdout",
     "output_type": "stream",
     "text": [
      "'Finished running: docs_retrieval:'\n",
      "---CHECK RELEVANT DOCS---\n",
      "---Let System generate or web search---\n",
      "---DECISION: GENERATE---\n",
      "'Finished running: relevant_docs_checker:'\n",
      "---GENERATE ANSWER---\n",
      "'Finished running: generate_answer:'\n",
      "---CHECK HALLUCINATION---\n",
      "---Let System print the answer or not---\n",
      "---DECISION: Print The Answer---\n",
      "'Finished running: hallucination_checker:'\n",
      "---DONE---\n"
     ]
    }
   ],
   "execution_count": 476
  },
  {
   "metadata": {},
   "cell_type": "markdown",
   "source": "",
   "id": "ea08b2d204ba1509"
  },
  {
   "metadata": {
    "ExecuteTime": {
     "end_time": "2024-07-31T09:31:10.845869Z",
     "start_time": "2024-07-31T09:31:10.842425Z"
    }
   },
   "cell_type": "code",
   "source": "value['generation']",
   "id": "7f45272180d1e7b0",
   "outputs": [
    {
     "data": {
      "text/plain": [
       "'The types of agent memory include sensory memory, short-term memory, and long-term memory. Sensory memory captures raw inputs briefly, short-term memory involves in-context learning, and long-term memory allows for the retention and retrieval of information over extended periods. Additionally, long-term memory can utilize external vector stores for efficient access.'"
      ]
     },
     "execution_count": 475,
     "metadata": {},
     "output_type": "execute_result"
    }
   ],
   "execution_count": 475
  },
  {
   "metadata": {},
   "cell_type": "code",
   "outputs": [],
   "execution_count": null,
   "source": "",
   "id": "1d1bcdfc7a44a050"
  }
 ],
 "metadata": {
  "kernelspec": {
   "display_name": "Python 3",
   "language": "python",
   "name": "python3"
  },
  "language_info": {
   "codemirror_mode": {
    "name": "ipython",
    "version": 2
   },
   "file_extension": ".py",
   "mimetype": "text/x-python",
   "name": "python",
   "nbconvert_exporter": "python",
   "pygments_lexer": "ipython2",
   "version": "2.7.6"
  }
 },
 "nbformat": 4,
 "nbformat_minor": 5
}

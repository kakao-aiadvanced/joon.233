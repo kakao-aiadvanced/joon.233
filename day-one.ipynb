{
 "cells": [
  {
   "cell_type": "code",
   "id": "67c3c891-f50a-4b9c-9117-a2887c97efe8",
   "metadata": {
    "ExecuteTime": {
     "end_time": "2024-07-30T05:13:44.573233Z",
     "start_time": "2024-07-30T05:13:43.148930Z"
    }
   },
   "source": [
    "%pip install llmlingua\n",
    "%pip install openai\n",
    "%pip install torch torchvision torchaudio --upgrade"
   ],
   "outputs": [
    {
     "name": "stdout",
     "output_type": "stream",
     "text": [
      "Requirement already satisfied: llmlingua in ./myenv/lib/python3.12/site-packages (0.2.2)\r\n",
      "Requirement already satisfied: transformers>=4.26.0 in ./myenv/lib/python3.12/site-packages (from llmlingua) (4.43.3)\r\n",
      "Requirement already satisfied: accelerate in ./myenv/lib/python3.12/site-packages (from llmlingua) (0.33.0)\r\n",
      "Requirement already satisfied: torch in ./myenv/lib/python3.12/site-packages (from llmlingua) (2.4.0)\r\n",
      "Requirement already satisfied: tiktoken in ./myenv/lib/python3.12/site-packages (from llmlingua) (0.7.0)\r\n",
      "Requirement already satisfied: nltk in ./myenv/lib/python3.12/site-packages (from llmlingua) (3.8.1)\r\n",
      "Requirement already satisfied: numpy in ./myenv/lib/python3.12/site-packages (from llmlingua) (1.26.4)\r\n",
      "Requirement already satisfied: filelock in ./myenv/lib/python3.12/site-packages (from transformers>=4.26.0->llmlingua) (3.15.4)\r\n",
      "Requirement already satisfied: huggingface-hub<1.0,>=0.23.2 in ./myenv/lib/python3.12/site-packages (from transformers>=4.26.0->llmlingua) (0.24.3)\r\n",
      "Requirement already satisfied: packaging>=20.0 in ./myenv/lib/python3.12/site-packages (from transformers>=4.26.0->llmlingua) (24.1)\r\n",
      "Requirement already satisfied: pyyaml>=5.1 in ./myenv/lib/python3.12/site-packages (from transformers>=4.26.0->llmlingua) (6.0.1)\r\n",
      "Requirement already satisfied: regex!=2019.12.17 in ./myenv/lib/python3.12/site-packages (from transformers>=4.26.0->llmlingua) (2024.7.24)\r\n",
      "Requirement already satisfied: requests in ./myenv/lib/python3.12/site-packages (from transformers>=4.26.0->llmlingua) (2.32.3)\r\n",
      "Requirement already satisfied: safetensors>=0.4.1 in ./myenv/lib/python3.12/site-packages (from transformers>=4.26.0->llmlingua) (0.4.3)\r\n",
      "Requirement already satisfied: tokenizers<0.20,>=0.19 in ./myenv/lib/python3.12/site-packages (from transformers>=4.26.0->llmlingua) (0.19.1)\r\n",
      "Requirement already satisfied: tqdm>=4.27 in ./myenv/lib/python3.12/site-packages (from transformers>=4.26.0->llmlingua) (4.66.4)\r\n",
      "Requirement already satisfied: psutil in ./myenv/lib/python3.12/site-packages (from accelerate->llmlingua) (6.0.0)\r\n",
      "Requirement already satisfied: typing-extensions>=4.8.0 in ./myenv/lib/python3.12/site-packages (from torch->llmlingua) (4.12.2)\r\n",
      "Requirement already satisfied: sympy in ./myenv/lib/python3.12/site-packages (from torch->llmlingua) (1.13.1)\r\n",
      "Requirement already satisfied: networkx in ./myenv/lib/python3.12/site-packages (from torch->llmlingua) (3.3)\r\n",
      "Requirement already satisfied: jinja2 in ./myenv/lib/python3.12/site-packages (from torch->llmlingua) (3.1.4)\r\n",
      "Requirement already satisfied: fsspec in ./myenv/lib/python3.12/site-packages (from torch->llmlingua) (2024.6.1)\r\n",
      "Requirement already satisfied: setuptools in ./myenv/lib/python3.12/site-packages (from torch->llmlingua) (72.1.0)\r\n",
      "Requirement already satisfied: click in ./myenv/lib/python3.12/site-packages (from nltk->llmlingua) (8.1.7)\r\n",
      "Requirement already satisfied: joblib in ./myenv/lib/python3.12/site-packages (from nltk->llmlingua) (1.4.2)\r\n",
      "Requirement already satisfied: charset-normalizer<4,>=2 in ./myenv/lib/python3.12/site-packages (from requests->transformers>=4.26.0->llmlingua) (3.3.2)\r\n",
      "Requirement already satisfied: idna<4,>=2.5 in ./myenv/lib/python3.12/site-packages (from requests->transformers>=4.26.0->llmlingua) (3.7)\r\n",
      "Requirement already satisfied: urllib3<3,>=1.21.1 in ./myenv/lib/python3.12/site-packages (from requests->transformers>=4.26.0->llmlingua) (2.2.2)\r\n",
      "Requirement already satisfied: certifi>=2017.4.17 in ./myenv/lib/python3.12/site-packages (from requests->transformers>=4.26.0->llmlingua) (2024.7.4)\r\n",
      "Requirement already satisfied: MarkupSafe>=2.0 in ./myenv/lib/python3.12/site-packages (from jinja2->torch->llmlingua) (2.1.5)\r\n",
      "Requirement already satisfied: mpmath<1.4,>=1.1.0 in ./myenv/lib/python3.12/site-packages (from sympy->torch->llmlingua) (1.3.0)\r\n",
      "Note: you may need to restart the kernel to use updated packages.\n",
      "Requirement already satisfied: openai in ./myenv/lib/python3.12/site-packages (1.37.1)\r\n",
      "Requirement already satisfied: anyio<5,>=3.5.0 in ./myenv/lib/python3.12/site-packages (from openai) (4.4.0)\r\n",
      "Requirement already satisfied: distro<2,>=1.7.0 in ./myenv/lib/python3.12/site-packages (from openai) (1.9.0)\r\n",
      "Requirement already satisfied: httpx<1,>=0.23.0 in ./myenv/lib/python3.12/site-packages (from openai) (0.27.0)\r\n",
      "Requirement already satisfied: pydantic<3,>=1.9.0 in ./myenv/lib/python3.12/site-packages (from openai) (2.8.2)\r\n",
      "Requirement already satisfied: sniffio in ./myenv/lib/python3.12/site-packages (from openai) (1.3.1)\r\n",
      "Requirement already satisfied: tqdm>4 in ./myenv/lib/python3.12/site-packages (from openai) (4.66.4)\r\n",
      "Requirement already satisfied: typing-extensions<5,>=4.7 in ./myenv/lib/python3.12/site-packages (from openai) (4.12.2)\r\n",
      "Requirement already satisfied: idna>=2.8 in ./myenv/lib/python3.12/site-packages (from anyio<5,>=3.5.0->openai) (3.7)\r\n",
      "Requirement already satisfied: certifi in ./myenv/lib/python3.12/site-packages (from httpx<1,>=0.23.0->openai) (2024.7.4)\r\n",
      "Requirement already satisfied: httpcore==1.* in ./myenv/lib/python3.12/site-packages (from httpx<1,>=0.23.0->openai) (1.0.5)\r\n",
      "Requirement already satisfied: h11<0.15,>=0.13 in ./myenv/lib/python3.12/site-packages (from httpcore==1.*->httpx<1,>=0.23.0->openai) (0.14.0)\r\n",
      "Requirement already satisfied: annotated-types>=0.4.0 in ./myenv/lib/python3.12/site-packages (from pydantic<3,>=1.9.0->openai) (0.7.0)\r\n",
      "Requirement already satisfied: pydantic-core==2.20.1 in ./myenv/lib/python3.12/site-packages (from pydantic<3,>=1.9.0->openai) (2.20.1)\r\n",
      "Note: you may need to restart the kernel to use updated packages.\n",
      "Requirement already satisfied: torch in ./myenv/lib/python3.12/site-packages (2.4.0)\r\n",
      "Requirement already satisfied: torchvision in ./myenv/lib/python3.12/site-packages (0.19.0)\r\n",
      "Requirement already satisfied: torchaudio in ./myenv/lib/python3.12/site-packages (2.4.0)\r\n",
      "Requirement already satisfied: filelock in ./myenv/lib/python3.12/site-packages (from torch) (3.15.4)\r\n",
      "Requirement already satisfied: typing-extensions>=4.8.0 in ./myenv/lib/python3.12/site-packages (from torch) (4.12.2)\r\n",
      "Requirement already satisfied: sympy in ./myenv/lib/python3.12/site-packages (from torch) (1.13.1)\r\n",
      "Requirement already satisfied: networkx in ./myenv/lib/python3.12/site-packages (from torch) (3.3)\r\n",
      "Requirement already satisfied: jinja2 in ./myenv/lib/python3.12/site-packages (from torch) (3.1.4)\r\n",
      "Requirement already satisfied: fsspec in ./myenv/lib/python3.12/site-packages (from torch) (2024.6.1)\r\n",
      "Requirement already satisfied: setuptools in ./myenv/lib/python3.12/site-packages (from torch) (72.1.0)\r\n",
      "Requirement already satisfied: numpy in ./myenv/lib/python3.12/site-packages (from torchvision) (1.26.4)\r\n",
      "Requirement already satisfied: pillow!=8.3.*,>=5.3.0 in ./myenv/lib/python3.12/site-packages (from torchvision) (10.4.0)\r\n",
      "Requirement already satisfied: MarkupSafe>=2.0 in ./myenv/lib/python3.12/site-packages (from jinja2->torch) (2.1.5)\r\n",
      "Requirement already satisfied: mpmath<1.4,>=1.1.0 in ./myenv/lib/python3.12/site-packages (from sympy->torch) (1.3.0)\r\n",
      "Note: you may need to restart the kernel to use updated packages.\n"
     ]
    }
   ],
   "execution_count": 8
  },
  {
   "cell_type": "code",
   "id": "a6858c70-8667-4ab5-991f-40e430bd41cf",
   "metadata": {
    "ExecuteTime": {
     "end_time": "2024-07-30T05:13:50.069089Z",
     "start_time": "2024-07-30T05:13:50.066365Z"
    }
   },
   "source": "import openai",
   "outputs": [],
   "execution_count": 10
  },
  {
   "metadata": {
    "ExecuteTime": {
     "end_time": "2024-07-30T05:14:55.678871Z",
     "start_time": "2024-07-30T05:14:55.518685Z"
    }
   },
   "cell_type": "code",
   "source": [
    "import torch\n",
    "print(torch.__version__)\n",
    "print(torch.backends.mps.is_available())\n",
    "\n",
    "if torch.backends.mps.is_available():\n",
    "  device = torch.device(\"mps\")\n",
    "else:\n",
    "  device = torch.device(\"cpu\")\n",
    "\n",
    "# Example tensor operations on MPS\n",
    "x = torch.tensor([1.0, 2.0, 3.0], device=device)\n",
    "y = torch.tensor([4.0, 5.0, 6.0], device=device)\n",
    "z = x + y\n",
    "print(z)"
   ],
   "id": "83020f109b91ad85",
   "outputs": [
    {
     "name": "stdout",
     "output_type": "stream",
     "text": [
      "2.4.0\n",
      "True\n",
      "tensor([5., 7., 9.], device='mps:0')\n"
     ]
    }
   ],
   "execution_count": 14
  },
  {
   "cell_type": "code",
   "id": "f453fb98-dd4d-4135-b967-e52a3a9d1680",
   "metadata": {
    "ExecuteTime": {
     "end_time": "2024-07-30T05:13:51.723878Z",
     "start_time": "2024-07-30T05:13:51.721410Z"
    }
   },
   "source": "api_key =",
   "outputs": [],
   "execution_count": 11
  },
  {
   "cell_type": "code",
   "id": "bf2ec4c1-9371-4b80-ab65-0278d2e59faf",
   "metadata": {
    "ExecuteTime": {
     "end_time": "2024-07-30T05:17:59.166855Z",
     "start_time": "2024-07-30T05:17:58.120039Z"
    }
   },
   "source": [
    "from llmlingua import PromptCompressor\n",
    "from openai import OpenAI\n",
    "\n",
    "# llm_lingua = PromptCompressor(\n",
    "#     model_name=\"microsoft/llmlingua-2-xlm-roberta-large-meetingbank\",\n",
    "#     use_llmlingua2=True, # Whether to use llmlingua-2\n",
    "# )\n",
    "\n",
    "## Use LLMLingua-2-small model\n",
    "# \n",
    "llm_lingua = PromptCompressor(\n",
    "    model_name=\"microsoft/llmlingua-2-bert-base-multilingual-cased-meetingbank\",\n",
    "    use_llmlingua2=True, # Whether to use llmlingua-2\n",
    "    device_map='mps'\n",
    ")"
   ],
   "outputs": [],
   "execution_count": 22
  },
  {
   "cell_type": "code",
   "id": "56a7a27b-6f34-4dae-815e-00d6a98241c8",
   "metadata": {
    "ExecuteTime": {
     "end_time": "2024-07-30T05:18:02.127295Z",
     "start_time": "2024-07-30T05:18:00.230758Z"
    }
   },
   "source": [
    "prompt = \"\"\"\n",
    "Can you determine if I should ask the following question to the math teacher, the social studies teacher, or neither.\n",
    "\n",
    "the answer should be {'result': ${math|socail|neither}}\n",
    "\"\"\"\n",
    "compressed_prompt = llm_lingua.compress_prompt(prompt, rate=0.4, force_tokens = ['\\n', '?'])"
   ],
   "outputs": [],
   "execution_count": 23
  },
  {
   "cell_type": "code",
   "id": "fcdeb590-e4bb-4449-a288-797476a40b3e",
   "metadata": {
    "ExecuteTime": {
     "end_time": "2024-07-30T05:18:24.531865Z",
     "start_time": "2024-07-30T05:18:24.528179Z"
    }
   },
   "source": [
    "print('original prompt length: ', len(prompt))\n",
    "print('compressed prompt length: ',len(compressed_prompt['compressed_prompt']))\n",
    "print(compressed_prompt['compressed_prompt'])\n"
   ],
   "outputs": [
    {
     "name": "stdout",
     "output_type": "stream",
     "text": [
      "original prompt length:  176\n",
      "compressed prompt length:  84\n",
      "\n",
      " determine question math social studies \n",
      " \n",
      " answer result ' math | socail neither \n",
      "\n"
     ]
    }
   ],
   "execution_count": 26
  },
  {
   "cell_type": "code",
   "id": "73556586-b35f-43a3-a4be-ab997c88ed02",
   "metadata": {
    "ExecuteTime": {
     "end_time": "2024-07-30T05:18:28.725845Z",
     "start_time": "2024-07-30T05:18:28.715392Z"
    }
   },
   "source": [
    "client = OpenAI(api_key=api_key)"
   ],
   "outputs": [],
   "execution_count": 27
  },
  {
   "cell_type": "code",
   "id": "b30a7f3d-a5fc-4d0f-9920-1af98f04a53e",
   "metadata": {
    "ExecuteTime": {
     "end_time": "2024-07-30T05:18:29.956013Z",
     "start_time": "2024-07-30T05:18:29.423875Z"
    }
   },
   "source": [
    "completion1 = client.chat.completions.create(\n",
    "  model=\"gpt-3.5-turbo\",\n",
    "  messages=[\n",
    "    {\"role\": \"system\", \"content\": prompt},\n",
    "    {\"role\": \"user\", \"content\": \"What were the main causes and consequences of the Industrial Revolution?\"}\n",
    "  ]\n",
    ")"
   ],
   "outputs": [],
   "execution_count": 28
  },
  {
   "cell_type": "code",
   "id": "caeb78e2-d163-4b04-92ef-c7307eaa8004",
   "metadata": {
    "ExecuteTime": {
     "end_time": "2024-07-30T05:18:31.652202Z",
     "start_time": "2024-07-30T05:18:31.649552Z"
    }
   },
   "source": [
    "print(completion1.choices[0].message)"
   ],
   "outputs": [
    {
     "name": "stdout",
     "output_type": "stream",
     "text": [
      "ChatCompletionMessage(content=\"{'result': 'social'}\", role='assistant', function_call=None, tool_calls=None)\n"
     ]
    }
   ],
   "execution_count": 29
  },
  {
   "cell_type": "code",
   "id": "9ef8dee4-4143-4ffc-b6ee-69466670dd68",
   "metadata": {
    "ExecuteTime": {
     "end_time": "2024-07-30T05:18:34.005666Z",
     "start_time": "2024-07-30T05:18:33.518077Z"
    }
   },
   "source": [
    "\n",
    "completion2 = client.chat.completions.create(\n",
    "  model=\"gpt-3.5-turbo\",\n",
    "  messages=[\n",
    "    {\"role\": \"system\", \"content\": compressed_prompt['compressed_prompt']},\n",
    "    {\"role\": \"user\", \"content\": \"What were the main causes and consequences of the Industrial Revolution?\"}\n",
    "  ]\n",
    ")"
   ],
   "outputs": [],
   "execution_count": 30
  },
  {
   "cell_type": "code",
   "id": "e040a903-b554-4f0a-8a8b-433133e62944",
   "metadata": {
    "ExecuteTime": {
     "end_time": "2024-07-30T05:18:35.954155Z",
     "start_time": "2024-07-30T05:18:35.951609Z"
    }
   },
   "source": [
    "print(completion2.choices[0].message)"
   ],
   "outputs": [
    {
     "name": "stdout",
     "output_type": "stream",
     "text": [
      "ChatCompletionMessage(content='social studies', role='assistant', function_call=None, tool_calls=None)\n"
     ]
    }
   ],
   "execution_count": 31
  },
  {
   "cell_type": "code",
   "execution_count": null,
   "id": "8e3e6eaf-df51-4eee-bd7e-ca799f6a6247",
   "metadata": {},
   "outputs": [],
   "source": []
  }
 ],
 "metadata": {
  "kernelspec": {
   "display_name": "Python 3 (ipykernel)",
   "language": "python",
   "name": "python3"
  },
  "language_info": {
   "codemirror_mode": {
    "name": "ipython",
    "version": 3
   },
   "file_extension": ".py",
   "mimetype": "text/x-python",
   "name": "python",
   "nbconvert_exporter": "python",
   "pygments_lexer": "ipython3",
   "version": "3.12.4"
  }
 },
 "nbformat": 4,
 "nbformat_minor": 5
}
